{
  "nbformat": 4,
  "nbformat_minor": 0,
  "metadata": {
    "colab": {
      "provenance": []
    },
    "kernelspec": {
      "name": "python3",
      "display_name": "Python 3"
    },
    "language_info": {
      "name": "python"
    }
  },
  "cells": [
    {
      "cell_type": "markdown",
      "metadata": {
        "id": "qYmEF6pdjz-2"
      },
      "source": [
        "#EASYMONEY"
      ]
    },
    {
      "cell_type": "code",
      "execution_count": 733,
      "metadata": {
        "colab": {
          "base_uri": "https://localhost:8080/",
          "height": 284
        },
        "id": "o7zw94Y7j5fL",
        "outputId": "0e12d6f3-42e5-40fb-ff90-0c33737c0a77"
      },
      "outputs": [
        {
          "output_type": "execute_result",
          "data": {
            "text/html": [
              "<img src=\"https://lh3.googleusercontent.com/LzCgpXQ_vD9O717mlEV9wzRhhfXVqn8OYnd2guu3wz8bwrlt3B6C7rTk4gwvIO12yJccnayagm8qbiNQlbViixL4n1deIwPTIj79LdgnkDG7RQEfAEY97REmTyVAQZVrCpFr_Wqvh8fmCglKry-Cglj3kDYNIZCHill7ela-X9hYWUvQy4XKJ0vN3LGsgfoJNVqnsd9l9aTIxn6w2I-22k0OEXnAWmrG6zifbUhy4cn097Ub-AqTS_qIivePD3V-SdBKWjNzRT7GcXIWZe3_4dtiIJhbCx_curxwwGfMDNYkuK4BhXmjCzLEeyDpfZHJEoMdUNOp_EyPPPpl2TnHnuGABzyDd0sonYmmhywApURtdQLcyEehzOIg64YxotQg7JBSykfXLbEEYtBaAWz_VpaDF7g73hbJEGxx51Kk5pZZNLvSS8wE9BehEIxv_UQ1ohIzkdY1gNb6-5RoWGvLkOe0KYjTmGopQ7J_1HJCQuqLjZq6UTIkv2pdmCrtuiwef5xAu8JYOQnU6TQCytuMBO9tD3MbpRLCCxGpJNiYEIQ9YNsb7ooRhRrhOR4aneAcTsCeDBGYSz5E9lgw0lHMVi0vHVF79RXorsW0YC5Ed91J1Bd5sHB78gkX4gwBuKa-fUOfHvevPyXu8BPM0etS4ziaxNDaCJSp48Lohpo5XDBfabRF0Tt81CTrtKbGVJGAulSmo-UmWpJI2HthBpL3GR_yhdG6pJ2uVfTuPMjOqU9zPiWpL7YAoKWdRdeqdca7ZFtcZU6ri_cYgIP6bOadYiEXm5daUXjlr5iRE11z-bD1vZMi-J6Qm-r9SPVXHIgIy8CRuNIJBC5UBTvj5aXrHdWtqHOb0uhftq5GtrpKMsVAVIU0w1HES-YHrW7mjrbMDbFUpSo1hWQAYwV44Cb5BKghaRQEj9Tp6nq9jhYbKfE=w566-h262-no?authuser=0\"/>"
            ],
            "text/plain": [
              "<IPython.core.display.Image object>"
            ]
          },
          "metadata": {},
          "execution_count": 733
        }
      ],
      "source": [
        "from IPython.display import Image\n",
        "Image(url='https://lh3.googleusercontent.com/LzCgpXQ_vD9O717mlEV9wzRhhfXVqn8OYnd2guu3wz8bwrlt3B6C7rTk4gwvIO12yJccnayagm8qbiNQlbViixL4n1deIwPTIj79LdgnkDG7RQEfAEY97REmTyVAQZVrCpFr_Wqvh8fmCglKry-Cglj3kDYNIZCHill7ela-X9hYWUvQy4XKJ0vN3LGsgfoJNVqnsd9l9aTIxn6w2I-22k0OEXnAWmrG6zifbUhy4cn097Ub-AqTS_qIivePD3V-SdBKWjNzRT7GcXIWZe3_4dtiIJhbCx_curxwwGfMDNYkuK4BhXmjCzLEeyDpfZHJEoMdUNOp_EyPPPpl2TnHnuGABzyDd0sonYmmhywApURtdQLcyEehzOIg64YxotQg7JBSykfXLbEEYtBaAWz_VpaDF7g73hbJEGxx51Kk5pZZNLvSS8wE9BehEIxv_UQ1ohIzkdY1gNb6-5RoWGvLkOe0KYjTmGopQ7J_1HJCQuqLjZq6UTIkv2pdmCrtuiwef5xAu8JYOQnU6TQCytuMBO9tD3MbpRLCCxGpJNiYEIQ9YNsb7ooRhRrhOR4aneAcTsCeDBGYSz5E9lgw0lHMVi0vHVF79RXorsW0YC5Ed91J1Bd5sHB78gkX4gwBuKa-fUOfHvevPyXu8BPM0etS4ziaxNDaCJSp48Lohpo5XDBfabRF0Tt81CTrtKbGVJGAulSmo-UmWpJI2HthBpL3GR_yhdG6pJ2uVfTuPMjOqU9zPiWpL7YAoKWdRdeqdca7ZFtcZU6ri_cYgIP6bOadYiEXm5daUXjlr5iRE11z-bD1vZMi-J6Qm-r9SPVXHIgIy8CRuNIJBC5UBTvj5aXrHdWtqHOb0uhftq5GtrpKMsVAVIU0w1HES-YHrW7mjrbMDbFUpSo1hWQAYwV44Cb5BKghaRQEj9Tp6nq9jhYbKfE=w566-h262-no?authuser=0')  "
      ]
    },
    {
      "cell_type": "markdown",
      "source": [
        "#IMPORTAMOS LIBRERIAS"
      ],
      "metadata": {
        "id": "qcSZHP0y3qQz"
      }
    },
    {
      "cell_type": "code",
      "execution_count": 734,
      "metadata": {
        "id": "JhFQkIMA3kEa"
      },
      "outputs": [],
      "source": [
        "import pandas as pd \n",
        "import numpy as np"
      ]
    },
    {
      "cell_type": "code",
      "source": [
        "import sklearn\n",
        "from sklearn.pipeline import Pipeline\n",
        "from sklearn.preprocessing import StandardScaler, MinMaxScaler, LabelEncoder, OrdinalEncoder\n",
        "from sklearn.base import BaseEstimator, TransformerMixin\n",
        "from sklearn.cluster import KMeans"
      ],
      "metadata": {
        "id": "deDSnNa9okFc"
      },
      "execution_count": 735,
      "outputs": []
    },
    {
      "cell_type": "code",
      "source": [
        "import time"
      ],
      "metadata": {
        "id": "88xSjLCeos3L"
      },
      "execution_count": 736,
      "outputs": []
    },
    {
      "cell_type": "code",
      "source": [
        "import matplotlib.pyplot as plt\n",
        "import seaborn as sns"
      ],
      "metadata": {
        "id": "89TDXQ2WpEnF"
      },
      "execution_count": 737,
      "outputs": []
    },
    {
      "cell_type": "code",
      "source": [
        "from pandas.core.groupby import groupby"
      ],
      "metadata": {
        "id": "-qegJ1Wjp-eP"
      },
      "execution_count": 738,
      "outputs": []
    },
    {
      "cell_type": "markdown",
      "source": [
        "#FUNCIONES Y CLASES"
      ],
      "metadata": {
        "id": "gg1XZuWo31S7"
      }
    },
    {
      "cell_type": "code",
      "source": [
        " np.random.seed(42)"
      ],
      "metadata": {
        "id": "3SiWOa8jj7ff"
      },
      "execution_count": 739,
      "outputs": []
    },
    {
      "cell_type": "code",
      "source": [
        "class ArrayToDataFrame(BaseEstimator, TransformerMixin):\n",
        "    '''\n",
        "    Clase que transforma un array en un DataFrame.\n",
        "    Necesita como parámetros el nombre de las columnas y el índice.\n",
        "    '''\n",
        "    \n",
        "    def __init__(self, columns, index = None):\n",
        "        self.columns = columns\n",
        "        self.index = index\n",
        "        \n",
        "    def fit(self, X, y = None):\n",
        "        return self\n",
        "    \n",
        "    def transform(self, X, y = None):\n",
        "        \n",
        "        if self.index != None:\n",
        "            df = pd.DataFrame(X, columns = self.columns, index = self.index)\n",
        "            \n",
        "        else:\n",
        "            df = pd.DataFrame(X, columns = self.columns)\n",
        "            \n",
        "        return df"
      ],
      "metadata": {
        "id": "xVzRfRoPZcZc"
      },
      "execution_count": 740,
      "outputs": []
    },
    {
      "cell_type": "code",
      "execution_count": 741,
      "metadata": {
        "ExecuteTime": {
          "end_time": "2021-11-14T15:58:29.597837Z",
          "start_time": "2021-11-14T15:58:27.911Z"
        },
        "id": "_boejr2XQwX-"
      },
      "outputs": [],
      "source": [
        "class OutlierFilter(BaseEstimator, TransformerMixin):\n",
        "    '''\n",
        "    Clase que filtra los outliers utilizando np.quantile()\n",
        "    Los cuantiles a filtrar así como las columnas a filtrar son los parámetros de la clase.\n",
        "    '''\n",
        "    \n",
        "    def __init__(self, q, col_to_filter):\n",
        "        self.q = q\n",
        "        self.col_to_filter = col_to_filter\n",
        "        \n",
        "    def fit(self, X, y = None):\n",
        "        return self\n",
        "    \n",
        "    def transform(self, X, y = None):\n",
        "        '''\n",
        "        El método considera outlier a aquel cliente que es outlier en todas las columnas que le pasas.\n",
        "        Es decir: si tiene que filtrar importe y número de pedidos, sólo va a eliminar aquellos clientes\n",
        "        que son outlier tanto en importe como número de pedidos. Si eres outlier en importe pero no en pedido\n",
        "        no se te va a filtrar del dataset.\n",
        "        '''\n",
        "        \n",
        "        # lista vacía\n",
        "        criteria_list = []\n",
        "        \n",
        "        # agregamos a la lista los clientes que son outliers\n",
        "        for col in self.col_to_filter:\n",
        "            criteria = X[col] < np.quantile(X[col], q = self.q)\n",
        "            criteria_list.append(criteria)\n",
        "            \n",
        "        # si hay más de 1 columna\n",
        "        if len(self.col_to_filter) > 1:\n",
        "            \n",
        "            # creamos el criterio global: es decir outlier en todas las columnas\n",
        "            global_criteria = criteria_list[0]\n",
        "            \n",
        "            for criteria in criteria_list[1:]:\n",
        "                global_criteria = global_criteria & criteria\n",
        "                \n",
        "        else:\n",
        "            global_criteria = criteria_list[0]\n",
        "            \n",
        "        # filtramos nuestra dataframe\n",
        "        X = X[global_criteria]\n",
        "        \n",
        "        # guardamos el índice como parámetro de la clase porque en caso contrario lo perderíamos.\n",
        "        self.index = X.index\n",
        "        \n",
        "        return X"
      ]
    },
    {
      "cell_type": "markdown",
      "source": [
        "#IMPORTAMOS DATOS\n"
      ],
      "metadata": {
        "id": "SJx6RJfH31Vf"
      }
    },
    {
      "cell_type": "code",
      "source": [
        "from google.colab import drive\n",
        "drive.mount('/content/drive')"
      ],
      "metadata": {
        "colab": {
          "base_uri": "https://localhost:8080/"
        },
        "id": "ZpW58CPt36Tz",
        "outputId": "1c9b8473-fa6c-4eee-b1d0-8dd62c12956a"
      },
      "execution_count": 742,
      "outputs": [
        {
          "output_type": "stream",
          "name": "stdout",
          "text": [
            "Drive already mounted at /content/drive; to attempt to forcibly remount, call drive.mount(\"/content/drive\", force_remount=True).\n"
          ]
        }
      ]
    },
    {
      "cell_type": "code",
      "source": [
        "CLUST = pd.read_csv(\"/content/drive/MyDrive/datasets/CLUST.csv\")"
      ],
      "metadata": {
        "id": "bqfhM5BI3_ps"
      },
      "execution_count": 743,
      "outputs": []
    },
    {
      "cell_type": "code",
      "source": [
        "CLUST.info()"
      ],
      "metadata": {
        "colab": {
          "base_uri": "https://localhost:8080/"
        },
        "id": "lJkO7mUomrrB",
        "outputId": "77342d8d-69cc-4a97-fc50-2a332b5a0828"
      },
      "execution_count": 744,
      "outputs": [
        {
          "output_type": "stream",
          "name": "stdout",
          "text": [
            "<class 'pandas.core.frame.DataFrame'>\n",
            "RangeIndex: 442909 entries, 0 to 442908\n",
            "Data columns (total 35 columns):\n",
            " #   Column                     Non-Null Count   Dtype  \n",
            "---  ------                     --------------   -----  \n",
            " 0   Unnamed: 0                 442909 non-null  int64  \n",
            " 1   ID_USR                     442909 non-null  int64  \n",
            " 2   SEXO                       442909 non-null  int64  \n",
            " 3   EDAD                       442909 non-null  int64  \n",
            " 4   SALARIO                    442909 non-null  float64\n",
            " 5   SEGMENTO                   442909 non-null  object \n",
            " 6   DE_ESPAÑA                  442909 non-null  int64  \n",
            " 7   COM.AUTONOMA_ESP           442909 non-null  object \n",
            " 8   CANAL_ENTRADA              442909 non-null  object \n",
            " 9   ACTIVO/A                   442909 non-null  int64  \n",
            " 10  ANTIGUEDAD_DIAS            442909 non-null  int64  \n",
            " 11  ANTIGUEDAD_MESES           442909 non-null  int64  \n",
            " 12  PROD_DEPOSITO_CP           442909 non-null  int64  \n",
            " 13  PROD_PRESTAMOS             442909 non-null  int64  \n",
            " 14  PROD_HIPOTECA              442909 non-null  int64  \n",
            " 15  PROD_FONDOS                442909 non-null  int64  \n",
            " 16  PROD_VALORES               442909 non-null  int64  \n",
            " 17  PROD_DEPOSITOS_LP          442909 non-null  int64  \n",
            " 18  PROD_CUENTA_EM++           442909 non-null  int64  \n",
            " 19  PROD_TARJETA_CREDITO       442909 non-null  int64  \n",
            " 20  PROD_DOMICILIACIONES       442909 non-null  int64  \n",
            " 21  PROD_PLAN_PENSIONES        442909 non-null  int64  \n",
            " 22  PROD_CUENTA_BON_DOMICILIA  442909 non-null  int64  \n",
            " 23  PROD_CUENTA_EM_CRYPTO      442909 non-null  int64  \n",
            " 24  PROD_TARJETA_DEBITO        442909 non-null  int64  \n",
            " 25  PROD_CUENTA_EM+            442909 non-null  int64  \n",
            " 26  PROD_CUENTA_EM             442909 non-null  int64  \n",
            " 27  TOTAL_PROD                 442909 non-null  int64  \n",
            " 28  VAR_PROD                   442909 non-null  int64  \n",
            " 29  STATUS_CLIENTE             442909 non-null  object \n",
            " 30  SEGMENTO_ID                442909 non-null  int64  \n",
            " 31  STATUS_ID                  442909 non-null  int64  \n",
            " 32  CANAL_ENT_ID               442909 non-null  int64  \n",
            " 33  CCAA_ID                    442909 non-null  int64  \n",
            " 34  RANGO_SALARIAL_ID          442909 non-null  int64  \n",
            "dtypes: float64(1), int64(30), object(4)\n",
            "memory usage: 118.3+ MB\n"
          ]
        }
      ]
    },
    {
      "cell_type": "code",
      "source": [
        "CLUST.columns"
      ],
      "metadata": {
        "colab": {
          "base_uri": "https://localhost:8080/"
        },
        "id": "5NKu3Cojmsw4",
        "outputId": "94fc6236-6d17-472f-d6fd-ab6d2348de13"
      },
      "execution_count": 745,
      "outputs": [
        {
          "output_type": "execute_result",
          "data": {
            "text/plain": [
              "Index(['Unnamed: 0', 'ID_USR', 'SEXO', 'EDAD', 'SALARIO', 'SEGMENTO',\n",
              "       'DE_ESPAÑA', 'COM.AUTONOMA_ESP', 'CANAL_ENTRADA', 'ACTIVO/A',\n",
              "       'ANTIGUEDAD_DIAS', 'ANTIGUEDAD_MESES', 'PROD_DEPOSITO_CP',\n",
              "       'PROD_PRESTAMOS', 'PROD_HIPOTECA', 'PROD_FONDOS', 'PROD_VALORES',\n",
              "       'PROD_DEPOSITOS_LP', 'PROD_CUENTA_EM++', 'PROD_TARJETA_CREDITO',\n",
              "       'PROD_DOMICILIACIONES', 'PROD_PLAN_PENSIONES',\n",
              "       'PROD_CUENTA_BON_DOMICILIA', 'PROD_CUENTA_EM_CRYPTO',\n",
              "       'PROD_TARJETA_DEBITO', 'PROD_CUENTA_EM+', 'PROD_CUENTA_EM',\n",
              "       'TOTAL_PROD', 'VAR_PROD', 'STATUS_CLIENTE', 'SEGMENTO_ID', 'STATUS_ID',\n",
              "       'CANAL_ENT_ID', 'CCAA_ID', 'RANGO_SALARIAL_ID'],\n",
              "      dtype='object')"
            ]
          },
          "metadata": {},
          "execution_count": 745
        }
      ]
    },
    {
      "cell_type": "code",
      "source": [
        "CLUST.drop('Unnamed: 0', axis=1, inplace = True)"
      ],
      "metadata": {
        "id": "AK9Gi7J1mtvB"
      },
      "execution_count": 746,
      "outputs": []
    },
    {
      "cell_type": "markdown",
      "source": [
        "#CLUSTERIZACION"
      ],
      "metadata": {
        "id": "7DtmblHMm4ou"
      }
    },
    {
      "cell_type": "code",
      "source": [
        "#Creación dataset con columnas a elegir\n",
        "CLUST_FINAL=CLUST.copy()"
      ],
      "metadata": {
        "id": "ZLcc37aym9gx"
      },
      "execution_count": 747,
      "outputs": []
    },
    {
      "cell_type": "markdown",
      "source": [
        "Podemos iterar desde este punto hasta el gráfico del hombro activando y desactivando columnas mediante # hasta encontrar la combinación con un resultado que nos resulte más satisfactorio."
      ],
      "metadata": {
        "id": "J-eFU3A2gZCG"
      }
    },
    {
      "cell_type": "code",
      "source": [
        "CLUST_FINAL.set_index(\"ID_USR\", inplace = True)\n",
        "\n",
        "lc = [\n",
        "      'SEXO',\n",
        "      'EDAD',\n",
        "   #   'SALARIO',\n",
        "   #  'DE_ESPAÑA',\n",
        " #    'COM.AUTONOMA_ESP', \n",
        "  #   'CANAL_ENTRADA', \n",
        "      'ACTIVO/A',\n",
        " #    'ANTIGUEDAD_DIAS', \n",
        "      'ANTIGUEDAD_MESES', \n",
        "  #    'PROD_DEPOSITO_CP',\n",
        "  #    'PROD_PRESTAMOS', \n",
        "#      'PROD_HIPOTECA', \n",
        " #     'PROD_FONDOS', \n",
        "  ##    'PROD_VALORES',\n",
        "    #  'PROD_DEPOSITOS_LP', \n",
        "  #    'PROD_CUENTA_EM++', \n",
        "   #   'PROD_TARJETA_CREDITO',\n",
        "    #  'PROD_DOMICILIACIONES', \n",
        "     # 'PROD_PLAN_PENSIONES',\n",
        "#      'PROD_CUENTA_BON_DOMICILIA', \n",
        " #     'PROD_CUENTA_EM_CRYPTO',\n",
        "  #    'PROD_TARJETA_DEBITO', \n",
        "   #   'PROD_CUENTA_EM+', \n",
        "    #  'PROD_CUENTA_EM',\n",
        "      'TOTAL_PROD', \n",
        " #     'VAR_PROD', \n",
        " #    'STATUS_CLIENTE', \n",
        "##      'SEGMENTO_ID', \n",
        "      'STATUS_ID',\n",
        " ##     'CANAL_ENT_ID', \n",
        " ##     'CCAA_ID', \n",
        " #    'RANGO_SALARIAL_ID'\n",
        "]\n",
        "\n",
        "CLUST_FINAL = CLUST_FINAL[lc]"
      ],
      "metadata": {
        "id": "n2v_6AUUnFsG"
      },
      "execution_count": 748,
      "outputs": []
    },
    {
      "cell_type": "code",
      "source": [
        "corr=CLUST_FINAL.corr()"
      ],
      "metadata": {
        "id": "TiyZLqyNoBQb"
      },
      "execution_count": 749,
      "outputs": []
    },
    {
      "cell_type": "code",
      "source": [
        "corr.style.background_gradient(cmap='coolwarm')"
      ],
      "metadata": {
        "colab": {
          "base_uri": "https://localhost:8080/",
          "height": 238
        },
        "id": "xW028b75oIDi",
        "outputId": "648c0aa4-c149-416b-88f5-46087b576341"
      },
      "execution_count": 750,
      "outputs": [
        {
          "output_type": "execute_result",
          "data": {
            "text/plain": [
              "<pandas.io.formats.style.Styler at 0x7f65a2f50400>"
            ],
            "text/html": [
              "<style type=\"text/css\">\n",
              "#T_2e50e_row0_col0, #T_2e50e_row1_col1, #T_2e50e_row2_col2, #T_2e50e_row3_col3, #T_2e50e_row4_col4, #T_2e50e_row5_col5 {\n",
              "  background-color: #b40426;\n",
              "  color: #f1f1f1;\n",
              "}\n",
              "#T_2e50e_row0_col1, #T_2e50e_row1_col0, #T_2e50e_row4_col5, #T_2e50e_row5_col2, #T_2e50e_row5_col3, #T_2e50e_row5_col4 {\n",
              "  background-color: #3b4cc0;\n",
              "  color: #f1f1f1;\n",
              "}\n",
              "#T_2e50e_row0_col2 {\n",
              "  background-color: #92b4fe;\n",
              "  color: #000000;\n",
              "}\n",
              "#T_2e50e_row0_col3 {\n",
              "  background-color: #5a78e4;\n",
              "  color: #f1f1f1;\n",
              "}\n",
              "#T_2e50e_row0_col4 {\n",
              "  background-color: #bbd1f8;\n",
              "  color: #000000;\n",
              "}\n",
              "#T_2e50e_row0_col5 {\n",
              "  background-color: #c0d4f5;\n",
              "  color: #000000;\n",
              "}\n",
              "#T_2e50e_row1_col2 {\n",
              "  background-color: #d6dce4;\n",
              "  color: #000000;\n",
              "}\n",
              "#T_2e50e_row1_col3 {\n",
              "  background-color: #5977e3;\n",
              "  color: #f1f1f1;\n",
              "}\n",
              "#T_2e50e_row1_col4 {\n",
              "  background-color: #e1dad6;\n",
              "  color: #000000;\n",
              "}\n",
              "#T_2e50e_row1_col5 {\n",
              "  background-color: #c1d4f4;\n",
              "  color: #000000;\n",
              "}\n",
              "#T_2e50e_row2_col0 {\n",
              "  background-color: #4358cb;\n",
              "  color: #f1f1f1;\n",
              "}\n",
              "#T_2e50e_row2_col1 {\n",
              "  background-color: #a1c0ff;\n",
              "  color: #000000;\n",
              "}\n",
              "#T_2e50e_row2_col3 {\n",
              "  background-color: #3e51c5;\n",
              "  color: #f1f1f1;\n",
              "}\n",
              "#T_2e50e_row2_col4 {\n",
              "  background-color: #f6a586;\n",
              "  color: #000000;\n",
              "}\n",
              "#T_2e50e_row2_col5 {\n",
              "  background-color: #688aef;\n",
              "  color: #f1f1f1;\n",
              "}\n",
              "#T_2e50e_row3_col0 {\n",
              "  background-color: #5875e1;\n",
              "  color: #f1f1f1;\n",
              "}\n",
              "#T_2e50e_row3_col1 {\n",
              "  background-color: #5673e0;\n",
              "  color: #f1f1f1;\n",
              "}\n",
              "#T_2e50e_row3_col2 {\n",
              "  background-color: #8caffe;\n",
              "  color: #000000;\n",
              "}\n",
              "#T_2e50e_row3_col4 {\n",
              "  background-color: #cfdaea;\n",
              "  color: #000000;\n",
              "}\n",
              "#T_2e50e_row3_col5 {\n",
              "  background-color: #afcafc;\n",
              "  color: #000000;\n",
              "}\n",
              "#T_2e50e_row4_col0 {\n",
              "  background-color: #4961d2;\n",
              "  color: #f1f1f1;\n",
              "}\n",
              "#T_2e50e_row4_col1 {\n",
              "  background-color: #8db0fe;\n",
              "  color: #000000;\n",
              "}\n",
              "#T_2e50e_row4_col2 {\n",
              "  background-color: #f7b599;\n",
              "  color: #000000;\n",
              "}\n",
              "#T_2e50e_row4_col3 {\n",
              "  background-color: #6e90f2;\n",
              "  color: #f1f1f1;\n",
              "}\n",
              "#T_2e50e_row5_col0 {\n",
              "  background-color: #506bda;\n",
              "  color: #f1f1f1;\n",
              "}\n",
              "#T_2e50e_row5_col1 {\n",
              "  background-color: #536edd;\n",
              "  color: #f1f1f1;\n",
              "}\n",
              "</style>\n",
              "<table id=\"T_2e50e\" class=\"dataframe\">\n",
              "  <thead>\n",
              "    <tr>\n",
              "      <th class=\"blank level0\" >&nbsp;</th>\n",
              "      <th id=\"T_2e50e_level0_col0\" class=\"col_heading level0 col0\" >SEXO</th>\n",
              "      <th id=\"T_2e50e_level0_col1\" class=\"col_heading level0 col1\" >EDAD</th>\n",
              "      <th id=\"T_2e50e_level0_col2\" class=\"col_heading level0 col2\" >ACTIVO/A</th>\n",
              "      <th id=\"T_2e50e_level0_col3\" class=\"col_heading level0 col3\" >ANTIGUEDAD_MESES</th>\n",
              "      <th id=\"T_2e50e_level0_col4\" class=\"col_heading level0 col4\" >TOTAL_PROD</th>\n",
              "      <th id=\"T_2e50e_level0_col5\" class=\"col_heading level0 col5\" >STATUS_ID</th>\n",
              "    </tr>\n",
              "  </thead>\n",
              "  <tbody>\n",
              "    <tr>\n",
              "      <th id=\"T_2e50e_level0_row0\" class=\"row_heading level0 row0\" >SEXO</th>\n",
              "      <td id=\"T_2e50e_row0_col0\" class=\"data row0 col0\" >1.000000</td>\n",
              "      <td id=\"T_2e50e_row0_col1\" class=\"data row0 col1\" >-0.087610</td>\n",
              "      <td id=\"T_2e50e_row0_col2\" class=\"data row0 col2\" >-0.055491</td>\n",
              "      <td id=\"T_2e50e_row0_col3\" class=\"data row0 col3\" >0.016100</td>\n",
              "      <td id=\"T_2e50e_row0_col4\" class=\"data row0 col4\" >-0.033332</td>\n",
              "      <td id=\"T_2e50e_row0_col5\" class=\"data row0 col5\" >-0.007840</td>\n",
              "    </tr>\n",
              "    <tr>\n",
              "      <th id=\"T_2e50e_level0_row1\" class=\"row_heading level0 row1\" >EDAD</th>\n",
              "      <td id=\"T_2e50e_row1_col0\" class=\"data row1 col0\" >-0.087610</td>\n",
              "      <td id=\"T_2e50e_row1_col1\" class=\"data row1 col1\" >1.000000</td>\n",
              "      <td id=\"T_2e50e_row1_col2\" class=\"data row1 col2\" >0.245489</td>\n",
              "      <td id=\"T_2e50e_row1_col3\" class=\"data row1 col3\" >0.012880</td>\n",
              "      <td id=\"T_2e50e_row1_col4\" class=\"data row1 col4\" >0.188506</td>\n",
              "      <td id=\"T_2e50e_row1_col5\" class=\"data row1 col5\" >-0.002216</td>\n",
              "    </tr>\n",
              "    <tr>\n",
              "      <th id=\"T_2e50e_level0_row2\" class=\"row_heading level0 row2\" >ACTIVO/A</th>\n",
              "      <td id=\"T_2e50e_row2_col0\" class=\"data row2 col0\" >-0.055491</td>\n",
              "      <td id=\"T_2e50e_row2_col1\" class=\"data row2 col1\" >0.245489</td>\n",
              "      <td id=\"T_2e50e_row2_col2\" class=\"data row2 col2\" >1.000000</td>\n",
              "      <td id=\"T_2e50e_row2_col3\" class=\"data row2 col3\" >-0.081459</td>\n",
              "      <td id=\"T_2e50e_row2_col4\" class=\"data row2 col4\" >0.529173</td>\n",
              "      <td id=\"T_2e50e_row2_col5\" class=\"data row2 col5\" >-0.435802</td>\n",
              "    </tr>\n",
              "    <tr>\n",
              "      <th id=\"T_2e50e_level0_row3\" class=\"row_heading level0 row3\" >ANTIGUEDAD_MESES</th>\n",
              "      <td id=\"T_2e50e_row3_col0\" class=\"data row3 col0\" >0.016100</td>\n",
              "      <td id=\"T_2e50e_row3_col1\" class=\"data row3 col1\" >0.012880</td>\n",
              "      <td id=\"T_2e50e_row3_col2\" class=\"data row3 col2\" >-0.081459</td>\n",
              "      <td id=\"T_2e50e_row3_col3\" class=\"data row3 col3\" >1.000000</td>\n",
              "      <td id=\"T_2e50e_row3_col4\" class=\"data row3 col4\" >0.081068</td>\n",
              "      <td id=\"T_2e50e_row3_col5\" class=\"data row3 col5\" >-0.095392</td>\n",
              "    </tr>\n",
              "    <tr>\n",
              "      <th id=\"T_2e50e_level0_row4\" class=\"row_heading level0 row4\" >TOTAL_PROD</th>\n",
              "      <td id=\"T_2e50e_row4_col0\" class=\"data row4 col0\" >-0.033332</td>\n",
              "      <td id=\"T_2e50e_row4_col1\" class=\"data row4 col1\" >0.188506</td>\n",
              "      <td id=\"T_2e50e_row4_col2\" class=\"data row4 col2\" >0.529173</td>\n",
              "      <td id=\"T_2e50e_row4_col3\" class=\"data row4 col3\" >0.081068</td>\n",
              "      <td id=\"T_2e50e_row4_col4\" class=\"data row4 col4\" >1.000000</td>\n",
              "      <td id=\"T_2e50e_row4_col5\" class=\"data row4 col5\" >-0.679800</td>\n",
              "    </tr>\n",
              "    <tr>\n",
              "      <th id=\"T_2e50e_level0_row5\" class=\"row_heading level0 row5\" >STATUS_ID</th>\n",
              "      <td id=\"T_2e50e_row5_col0\" class=\"data row5 col0\" >-0.007840</td>\n",
              "      <td id=\"T_2e50e_row5_col1\" class=\"data row5 col1\" >-0.002216</td>\n",
              "      <td id=\"T_2e50e_row5_col2\" class=\"data row5 col2\" >-0.435802</td>\n",
              "      <td id=\"T_2e50e_row5_col3\" class=\"data row5 col3\" >-0.095392</td>\n",
              "      <td id=\"T_2e50e_row5_col4\" class=\"data row5 col4\" >-0.679800</td>\n",
              "      <td id=\"T_2e50e_row5_col5\" class=\"data row5 col5\" >1.000000</td>\n",
              "    </tr>\n",
              "  </tbody>\n",
              "</table>\n"
            ]
          },
          "metadata": {},
          "execution_count": 750
        }
      ]
    },
    {
      "cell_type": "code",
      "source": [
        "columns = list(CLUST_FINAL.columns)\n",
        "index = list(CLUST_FINAL.index)"
      ],
      "metadata": {
        "id": "Cjnnn3h-WLJ8"
      },
      "execution_count": 751,
      "outputs": []
    },
    {
      "cell_type": "markdown",
      "source": [
        "#NORMALIZACIÓN Y ELBOW CURVE"
      ],
      "metadata": {
        "id": "s_BHpYKDoPNv"
      }
    },
    {
      "cell_type": "code",
      "source": [
        "pipe = Pipeline(steps = [\n",
        "    (\"ArrayToDataFrame\", ArrayToDataFrame(columns, index = index)),\n",
        "    (\"OutlierFilter\", OutlierFilter(q = 0.99, col_to_filter = [\n",
        "        #\"SALARIO\", \n",
        "        \"EDAD\"])),\n",
        "    (\"MinMaxScaler\", MinMaxScaler()),\n",
        "])"
      ],
      "metadata": {
        "id": "0qjmY6hiUWKZ"
      },
      "execution_count": 752,
      "outputs": []
    },
    {
      "cell_type": "code",
      "source": [
        "CLUST_TRAIN=pipe.fit_transform(CLUST_FINAL)"
      ],
      "metadata": {
        "id": "7npH5WQHUhWX"
      },
      "execution_count": 753,
      "outputs": []
    },
    {
      "cell_type": "code",
      "source": [
        "CALCULATE_ELBOW = True"
      ],
      "metadata": {
        "id": "gS0DOPc6oWjI"
      },
      "execution_count": 754,
      "outputs": []
    },
    {
      "cell_type": "code",
      "source": [
        "if CALCULATE_ELBOW:\n",
        "    st = time.time()\n",
        "\n",
        "    sse = {}\n",
        "\n",
        "    for k in range(3, 10):\n",
        "\n",
        "        print(f\"Fitting pipe with {k} clusters\")\n",
        "\n",
        "        clustering_model = KMeans(n_clusters = k,random_state=42)\n",
        "\n",
        "        clustering_model.fit(CLUST_TRAIN)\n",
        "\n",
        "        sse[k] = clustering_model.inertia_\n",
        "\n",
        "    et = time.time()\n",
        "    print(\"Elbow curve took {} minutes.\".format(round((et - st)/60), 2))"
      ],
      "metadata": {
        "colab": {
          "base_uri": "https://localhost:8080/"
        },
        "id": "fot9VnkNoamr",
        "outputId": "9556ba86-7858-485f-de7c-4c12377de400"
      },
      "execution_count": 755,
      "outputs": [
        {
          "output_type": "stream",
          "name": "stdout",
          "text": [
            "Fitting pipe with 3 clusters\n"
          ]
        },
        {
          "output_type": "stream",
          "name": "stderr",
          "text": [
            "/usr/local/lib/python3.9/dist-packages/sklearn/cluster/_kmeans.py:870: FutureWarning: The default value of `n_init` will change from 10 to 'auto' in 1.4. Set the value of `n_init` explicitly to suppress the warning\n",
            "  warnings.warn(\n"
          ]
        },
        {
          "output_type": "stream",
          "name": "stdout",
          "text": [
            "Fitting pipe with 4 clusters\n"
          ]
        },
        {
          "output_type": "stream",
          "name": "stderr",
          "text": [
            "/usr/local/lib/python3.9/dist-packages/sklearn/cluster/_kmeans.py:870: FutureWarning: The default value of `n_init` will change from 10 to 'auto' in 1.4. Set the value of `n_init` explicitly to suppress the warning\n",
            "  warnings.warn(\n"
          ]
        },
        {
          "output_type": "stream",
          "name": "stdout",
          "text": [
            "Fitting pipe with 5 clusters\n"
          ]
        },
        {
          "output_type": "stream",
          "name": "stderr",
          "text": [
            "/usr/local/lib/python3.9/dist-packages/sklearn/cluster/_kmeans.py:870: FutureWarning: The default value of `n_init` will change from 10 to 'auto' in 1.4. Set the value of `n_init` explicitly to suppress the warning\n",
            "  warnings.warn(\n"
          ]
        },
        {
          "output_type": "stream",
          "name": "stdout",
          "text": [
            "Fitting pipe with 6 clusters\n"
          ]
        },
        {
          "output_type": "stream",
          "name": "stderr",
          "text": [
            "/usr/local/lib/python3.9/dist-packages/sklearn/cluster/_kmeans.py:870: FutureWarning: The default value of `n_init` will change from 10 to 'auto' in 1.4. Set the value of `n_init` explicitly to suppress the warning\n",
            "  warnings.warn(\n"
          ]
        },
        {
          "output_type": "stream",
          "name": "stdout",
          "text": [
            "Fitting pipe with 7 clusters\n"
          ]
        },
        {
          "output_type": "stream",
          "name": "stderr",
          "text": [
            "/usr/local/lib/python3.9/dist-packages/sklearn/cluster/_kmeans.py:870: FutureWarning: The default value of `n_init` will change from 10 to 'auto' in 1.4. Set the value of `n_init` explicitly to suppress the warning\n",
            "  warnings.warn(\n"
          ]
        },
        {
          "output_type": "stream",
          "name": "stdout",
          "text": [
            "Fitting pipe with 8 clusters\n"
          ]
        },
        {
          "output_type": "stream",
          "name": "stderr",
          "text": [
            "/usr/local/lib/python3.9/dist-packages/sklearn/cluster/_kmeans.py:870: FutureWarning: The default value of `n_init` will change from 10 to 'auto' in 1.4. Set the value of `n_init` explicitly to suppress the warning\n",
            "  warnings.warn(\n"
          ]
        },
        {
          "output_type": "stream",
          "name": "stdout",
          "text": [
            "Fitting pipe with 9 clusters\n"
          ]
        },
        {
          "output_type": "stream",
          "name": "stderr",
          "text": [
            "/usr/local/lib/python3.9/dist-packages/sklearn/cluster/_kmeans.py:870: FutureWarning: The default value of `n_init` will change from 10 to 'auto' in 1.4. Set the value of `n_init` explicitly to suppress the warning\n",
            "  warnings.warn(\n"
          ]
        },
        {
          "output_type": "stream",
          "name": "stdout",
          "text": [
            "Elbow curve took 0 minutes.\n"
          ]
        }
      ]
    },
    {
      "cell_type": "code",
      "source": [
        "if CALCULATE_ELBOW:\n",
        "    fig = plt.figure(figsize = (16, 8))\n",
        "    ax = fig.add_subplot()\n",
        "\n",
        "    x_values = list(sse.keys())\n",
        "    y_values = list(sse.values())\n",
        "\n",
        "    ax.plot(x_values, y_values, label = \"Inertia/dispersión de los clústers\")\n",
        "    fig.suptitle(\"Variación de la dispersión de los clústers en función de la k\", fontsize = 16);"
      ],
      "metadata": {
        "colab": {
          "base_uri": "https://localhost:8080/",
          "height": 756
        },
        "id": "pnt7gRx4oMHz",
        "outputId": "d5fb00c3-e31b-4244-8480-12a1901a7e08"
      },
      "execution_count": 756,
      "outputs": [
        {
          "output_type": "display_data",
          "data": {
            "text/plain": [
              "<Figure size 1600x800 with 1 Axes>"
            ],
            "image/png": "[encoded data removed]"
          },
          "metadata": {}
        }
      ]
    },
    {
      "cell_type": "code",
      "source": [
        "#Iterar desde la selección de columnas hasta aquí para encontrar la configuración del kmeans"
      ],
      "metadata": {
        "id": "OUDg19fIg2nn"
      },
      "execution_count": 757,
      "outputs": []
    },
    {
      "cell_type": "code",
      "source": [
        "\n",
        "pipe2 = Pipeline(steps = [\n",
        "    (\"ArrayToDataFrame\", ArrayToDataFrame(columns, index = index)),\n",
        "    (\"OutlierFilter\", OutlierFilter(q = 0.99, col_to_filter = [\n",
        "       # \"SALARIO\", \n",
        "        \"EDAD\"])),\n",
        "    (\"MinMaxScaler\", MinMaxScaler()),\n",
        "    (\"Clustering\", KMeans(n_clusters = 6,random_state=42))\n",
        "])"
      ],
      "metadata": {
        "id": "Rp_csuSqph0_"
      },
      "execution_count": 758,
      "outputs": []
    },
    {
      "cell_type": "code",
      "source": [
        "pipe2.fit(CLUST_FINAL)"
      ],
      "metadata": {
        "colab": {
          "base_uri": "https://localhost:8080/",
          "height": 231
        },
        "id": "5obhJHNXcrb4",
        "outputId": "67dbb31e-ed63-41c4-938f-15e2f685ffdf"
      },
      "execution_count": 759,
      "outputs": [
        {
          "output_type": "stream",
          "name": "stderr",
          "text": [
            "/usr/local/lib/python3.9/dist-packages/sklearn/cluster/_kmeans.py:870: FutureWarning: The default value of `n_init` will change from 10 to 'auto' in 1.4. Set the value of `n_init` explicitly to suppress the warning\n",
            "  warnings.warn(\n"
          ]
        },
        {
          "output_type": "execute_result",
          "data": {
            "text/plain": [
              "Pipeline(steps=[('ArrayToDataFrame',\n",
              "                 ArrayToDataFrame(columns=['SEXO', 'EDAD', 'ACTIVO/A',\n",
              "                                           'ANTIGUEDAD_MESES', 'TOTAL_PROD',\n",
              "                                           'STATUS_ID'],\n",
              "                                  index=[657826, 657817, 657986, 657905, 657336,\n",
              "                                         657147, 658184, 658576, 655774, 655419,\n",
              "                                         655682, 656163, 656942, 656915, 656215,\n",
              "                                         656613, 656415, 661519, 661894, 661308,\n",
              "                                         662428, 662794, 662772, 662366, 659551,\n",
              "                                         659822, 659223, 659236, 659080, 660568, ...])),\n",
              "                ('OutlierFilter',\n",
              "                 OutlierFilter(col_to_filter=['EDAD'], q=0.99)),\n",
              "                ('MinMaxScaler', MinMaxScaler()),\n",
              "                ('Clustering', KMeans(n_clusters=6, random_state=42))])"
            ],
            "text/html": [
              "<style>#sk-container-id-17 {color: black;background-color: white;}#sk-container-id-17 pre{padding: 0;}#sk-container-id-17 div.sk-toggleable {background-color: white;}#sk-container-id-17 label.sk-toggleable__label {cursor: pointer;display: block;width: 100%;margin-bottom: 0;padding: 0.3em;box-sizing: border-box;text-align: center;}#sk-container-id-17 label.sk-toggleable__label-arrow:before {content: \"▸\";float: left;margin-right: 0.25em;color: #696969;}#sk-container-id-17 label.sk-toggleable__label-arrow:hover:before {color: black;}#sk-container-id-17 div.sk-estimator:hover label.sk-toggleable__label-arrow:before {color: black;}#sk-container-id-17 div.sk-toggleable__content {max-height: 0;max-width: 0;overflow: hidden;text-align: left;background-color: #f0f8ff;}#sk-container-id-17 div.sk-toggleable__content pre {margin: 0.2em;color: black;border-radius: 0.25em;background-color: #f0f8ff;}#sk-container-id-17 input.sk-toggleable__control:checked~div.sk-toggleable__content {max-height: 200px;max-width: 100%;overflow: auto;}#sk-container-id-17 input.sk-toggleable__control:checked~label.sk-toggleable__label-arrow:before {content: \"▾\";}#sk-container-id-17 div.sk-estimator input.sk-toggleable__control:checked~label.sk-toggleable__label {background-color: #d4ebff;}#sk-container-id-17 div.sk-label input.sk-toggleable__control:checked~label.sk-toggleable__label {background-color: #d4ebff;}#sk-container-id-17 input.sk-hidden--visually {border: 0;clip: rect(1px 1px 1px 1px);clip: rect(1px, 1px, 1px, 1px);height: 1px;margin: -1px;overflow: hidden;padding: 0;position: absolute;width: 1px;}#sk-container-id-17 div.sk-estimator {font-family: monospace;background-color: #f0f8ff;border: 1px dotted black;border-radius: 0.25em;box-sizing: border-box;margin-bottom: 0.5em;}#sk-container-id-17 div.sk-estimator:hover {background-color: #d4ebff;}#sk-container-id-17 div.sk-parallel-item::after {content: \"\";width: 100%;border-bottom: 1px solid gray;flex-grow: 1;}#sk-container-id-17 div.sk-label:hover label.sk-toggleable__label {background-color: #d4ebff;}#sk-container-id-17 div.sk-serial::before {content: \"\";position: absolute;border-left: 1px solid gray;box-sizing: border-box;top: 0;bottom: 0;left: 50%;z-index: 0;}#sk-container-id-17 div.sk-serial {display: flex;flex-direction: column;align-items: center;background-color: white;padding-right: 0.2em;padding-left: 0.2em;position: relative;}#sk-container-id-17 div.sk-item {position: relative;z-index: 1;}#sk-container-id-17 div.sk-parallel {display: flex;align-items: stretch;justify-content: center;background-color: white;position: relative;}#sk-container-id-17 div.sk-item::before, #sk-container-id-17 div.sk-parallel-item::before {content: \"\";position: absolute;border-left: 1px solid gray;box-sizing: border-box;top: 0;bottom: 0;left: 50%;z-index: -1;}#sk-container-id-17 div.sk-parallel-item {display: flex;flex-direction: column;z-index: 1;position: relative;background-color: white;}#sk-container-id-17 div.sk-parallel-item:first-child::after {align-self: flex-end;width: 50%;}#sk-container-id-17 div.sk-parallel-item:last-child::after {align-self: flex-start;width: 50%;}#sk-container-id-17 div.sk-parallel-item:only-child::after {width: 0;}#sk-container-id-17 div.sk-dashed-wrapped {border: 1px dashed gray;margin: 0 0.4em 0.5em 0.4em;box-sizing: border-box;padding-bottom: 0.4em;background-color: white;}#sk-container-id-17 div.sk-label label {font-family: monospace;font-weight: bold;display: inline-block;line-height: 1.2em;}#sk-container-id-17 div.sk-label-container {text-align: center;}#sk-container-id-17 div.sk-container {/* jupyter's `normalize.less` sets `[hidden] { display: none; }` but bootstrap.min.css set `[hidden] { display: none !important; }` so we also need the `!important` here to be able to override the default hidden behavior on the sphinx rendered scikit-learn.org. See: https://github.com/scikit-learn/scikit-learn/issues/21755 */display: inline-block !important;position: relative;}#sk-container-id-17 div.sk-text-repr-fallback {display: none;}</style><div id=\"sk-container-id-17\" class=\"sk-top-container\"><div class=\"sk-text-repr-fallback\"><pre>Pipeline(steps=[(&#x27;ArrayToDataFrame&#x27;,\n",
              "                 ArrayToDataFrame(columns=[&#x27;SEXO&#x27;, &#x27;EDAD&#x27;, &#x27;ACTIVO/A&#x27;,\n",
              "                                           &#x27;ANTIGUEDAD_MESES&#x27;, &#x27;TOTAL_PROD&#x27;,\n",
              "                                           &#x27;STATUS_ID&#x27;],\n",
              "                                  index=[657826, 657817, 657986, 657905, 657336,\n",
              "                                         657147, 658184, 658576, 655774, 655419,\n",
              "                                         655682, 656163, 656942, 656915, 656215,\n",
              "                                         656613, 656415, 661519, 661894, 661308,\n",
              "                                         662428, 662794, 662772, 662366, 659551,\n",
              "                                         659822, 659223, 659236, 659080, 660568, ...])),\n",
              "                (&#x27;OutlierFilter&#x27;,\n",
              "                 OutlierFilter(col_to_filter=[&#x27;EDAD&#x27;], q=0.99)),\n",
              "                (&#x27;MinMaxScaler&#x27;, MinMaxScaler()),\n",
              "                (&#x27;Clustering&#x27;, KMeans(n_clusters=6, random_state=42))])</pre><b>In a Jupyter environment, please rerun this cell to show the HTML representation or trust the notebook. <br />On GitHub, the HTML representation is unable to render, please try loading this page with nbviewer.org.</b></div><div class=\"sk-container\" hidden><div class=\"sk-item sk-dashed-wrapped\"><div class=\"sk-label-container\"><div class=\"sk-label sk-toggleable\"><input class=\"sk-toggleable__control sk-hidden--visually\" id=\"sk-estimator-id-81\" type=\"checkbox\" ><label for=\"sk-estimator-id-81\" class=\"sk-toggleable__label sk-toggleable__label-arrow\">Pipeline</label><div class=\"sk-toggleable__content\"><pre>Pipeline(steps=[(&#x27;ArrayToDataFrame&#x27;,\n",
              "                 ArrayToDataFrame(columns=[&#x27;SEXO&#x27;, &#x27;EDAD&#x27;, &#x27;ACTIVO/A&#x27;,\n",
              "                                           &#x27;ANTIGUEDAD_MESES&#x27;, &#x27;TOTAL_PROD&#x27;,\n",
              "                                           &#x27;STATUS_ID&#x27;],\n",
              "                                  index=[657826, 657817, 657986, 657905, 657336,\n",
              "                                         657147, 658184, 658576, 655774, 655419,\n",
              "                                         655682, 656163, 656942, 656915, 656215,\n",
              "                                         656613, 656415, 661519, 661894, 661308,\n",
              "                                         662428, 662794, 662772, 662366, 659551,\n",
              "                                         659822, 659223, 659236, 659080, 660568, ...])),\n",
              "                (&#x27;OutlierFilter&#x27;,\n",
              "                 OutlierFilter(col_to_filter=[&#x27;EDAD&#x27;], q=0.99)),\n",
              "                (&#x27;MinMaxScaler&#x27;, MinMaxScaler()),\n",
              "                (&#x27;Clustering&#x27;, KMeans(n_clusters=6, random_state=42))])</pre></div></div></div><div class=\"sk-serial\"><div class=\"sk-item\"><div class=\"sk-estimator sk-toggleable\"><input class=\"sk-toggleable__control sk-hidden--visually\" id=\"sk-estimator-id-82\" type=\"checkbox\" ><label for=\"sk-estimator-id-82\" class=\"sk-toggleable__label sk-toggleable__label-arrow\">ArrayToDataFrame</label><div class=\"sk-toggleable__content\"><pre>ArrayToDataFrame(columns=[&#x27;SEXO&#x27;, &#x27;EDAD&#x27;, &#x27;ACTIVO/A&#x27;, &#x27;ANTIGUEDAD_MESES&#x27;,\n",
              "                          &#x27;TOTAL_PROD&#x27;, &#x27;STATUS_ID&#x27;],\n",
              "                 index=[657826, 657817, 657986, 657905, 657336, 657147, 658184,\n",
              "                        658576, 655774, 655419, 655682, 656163, 656942, 656915,\n",
              "                        656215, 656613, 656415, 661519, 661894, 661308, 662428,\n",
              "                        662794, 662772, 662366, 659551, 659822, 659223, 659236,\n",
              "                        659080, 660568, ...])</pre></div></div></div><div class=\"sk-item\"><div class=\"sk-estimator sk-toggleable\"><input class=\"sk-toggleable__control sk-hidden--visually\" id=\"sk-estimator-id-83\" type=\"checkbox\" ><label for=\"sk-estimator-id-83\" class=\"sk-toggleable__label sk-toggleable__label-arrow\">OutlierFilter</label><div class=\"sk-toggleable__content\"><pre>OutlierFilter(col_to_filter=[&#x27;EDAD&#x27;], q=0.99)</pre></div></div></div><div class=\"sk-item\"><div class=\"sk-estimator sk-toggleable\"><input class=\"sk-toggleable__control sk-hidden--visually\" id=\"sk-estimator-id-84\" type=\"checkbox\" ><label for=\"sk-estimator-id-84\" class=\"sk-toggleable__label sk-toggleable__label-arrow\">MinMaxScaler</label><div class=\"sk-toggleable__content\"><pre>MinMaxScaler()</pre></div></div></div><div class=\"sk-item\"><div class=\"sk-estimator sk-toggleable\"><input class=\"sk-toggleable__control sk-hidden--visually\" id=\"sk-estimator-id-85\" type=\"checkbox\" ><label for=\"sk-estimator-id-85\" class=\"sk-toggleable__label sk-toggleable__label-arrow\">KMeans</label><div class=\"sk-toggleable__content\"><pre>KMeans(n_clusters=6, random_state=42)</pre></div></div></div></div></div></div></div>"
            ]
          },
          "metadata": {},
          "execution_count": 759
        }
      ]
    },
    {
      "cell_type": "code",
      "source": [
        "X_processed = pipe2[\"ArrayToDataFrame\"].transform(CLUST_FINAL)\n",
        "CLUST_scaled = pipe2[\"MinMaxScaler\"].transform(X_processed)"
      ],
      "metadata": {
        "id": "s6Lrdd9SfeUg"
      },
      "execution_count": 760,
      "outputs": []
    },
    {
      "cell_type": "code",
      "source": [
        "etiquetas = pipe2[\"Clustering\"].predict(CLUST_scaled)"
      ],
      "metadata": {
        "id": "ZqkmPycPdkYe"
      },
      "execution_count": 761,
      "outputs": []
    },
    {
      "cell_type": "code",
      "source": [
        "CLUST_FINAL['CLUSTER']=etiquetas"
      ],
      "metadata": {
        "id": "MmN5U26Mpp3k"
      },
      "execution_count": 762,
      "outputs": []
    },
    {
      "cell_type": "code",
      "source": [
        "CLUST_FINAL"
      ],
      "metadata": {
        "colab": {
          "base_uri": "https://localhost:8080/",
          "height": 455
        },
        "id": "XMHAs6phpwB9",
        "outputId": "3ffbc21a-4181-4313-8988-10405ace24fb"
      },
      "execution_count": 763,
      "outputs": [
        {
          "output_type": "execute_result",
          "data": {
            "text/plain": [
              "         SEXO  EDAD  ACTIVO/A  ANTIGUEDAD_MESES  TOTAL_PROD  STATUS_ID  \\\n",
              "ID_USR                                                                   \n",
              "657826      2    44         1                48           1          2   \n",
              "657817      1    32         0                 0           0          5   \n",
              "657986      2    39         1                39           6          2   \n",
              "657905      2    85         1                27           2          2   \n",
              "657336      1    38         1                 2           1          2   \n",
              "...       ...   ...       ...               ...         ...        ...   \n",
              "1166765     1    22         0                33           1          2   \n",
              "1166764     1    23         0                33           1          2   \n",
              "1166763     2    47         1                33           1          2   \n",
              "1166789     2    22         0                33           1          2   \n",
              "1550586     2    37         1                 0           1          3   \n",
              "\n",
              "         CLUSTER  \n",
              "ID_USR            \n",
              "657826         0  \n",
              "657817         5  \n",
              "657986         0  \n",
              "657905         0  \n",
              "657336         3  \n",
              "...          ...  \n",
              "1166765        1  \n",
              "1166764        1  \n",
              "1166763        0  \n",
              "1166789        4  \n",
              "1550586        0  \n",
              "\n",
              "[442909 rows x 7 columns]"
            ],
            "text/html": [
              "\n",
              "  <div id=\"df-652df733-abd5-40d2-9e41-46238cc189c0\">\n",
              "    <div class=\"colab-df-container\">\n",
              "      <div>\n",
              "<style scoped>\n",
              "    .dataframe tbody tr th:only-of-type {\n",
              "        vertical-align: middle;\n",
              "    }\n",
              "\n",
              "    .dataframe tbody tr th {\n",
              "        vertical-align: top;\n",
              "    }\n",
              "\n",
              "    .dataframe thead th {\n",
              "        text-align: right;\n",
              "    }\n",
              "</style>\n",
              "<table border=\"1\" class=\"dataframe\">\n",
              "  <thead>\n",
              "    <tr style=\"text-align: right;\">\n",
              "      <th></th>\n",
              "      <th>SEXO</th>\n",
              "      <th>EDAD</th>\n",
              "      <th>ACTIVO/A</th>\n",
              "      <th>ANTIGUEDAD_MESES</th>\n",
              "      <th>TOTAL_PROD</th>\n",
              "      <th>STATUS_ID</th>\n",
              "      <th>CLUSTER</th>\n",
              "    </tr>\n",
              "    <tr>\n",
              "      <th>ID_USR</th>\n",
              "      <th></th>\n",
              "      <th></th>\n",
              "      <th></th>\n",
              "      <th></th>\n",
              "      <th></th>\n",
              "      <th></th>\n",
              "      <th></th>\n",
              "    </tr>\n",
              "  </thead>\n",
              "  <tbody>\n",
              "    <tr>\n",
              "      <th>657826</th>\n",
              "      <td>2</td>\n",
              "      <td>44</td>\n",
              "      <td>1</td>\n",
              "      <td>48</td>\n",
              "      <td>1</td>\n",
              "      <td>2</td>\n",
              "      <td>0</td>\n",
              "    </tr>\n",
              "    <tr>\n",
              "      <th>657817</th>\n",
              "      <td>1</td>\n",
              "      <td>32</td>\n",
              "      <td>0</td>\n",
              "      <td>0</td>\n",
              "      <td>0</td>\n",
              "      <td>5</td>\n",
              "      <td>5</td>\n",
              "    </tr>\n",
              "    <tr>\n",
              "      <th>657986</th>\n",
              "      <td>2</td>\n",
              "      <td>39</td>\n",
              "      <td>1</td>\n",
              "      <td>39</td>\n",
              "      <td>6</td>\n",
              "      <td>2</td>\n",
              "      <td>0</td>\n",
              "    </tr>\n",
              "    <tr>\n",
              "      <th>657905</th>\n",
              "      <td>2</td>\n",
              "      <td>85</td>\n",
              "      <td>1</td>\n",
              "      <td>27</td>\n",
              "      <td>2</td>\n",
              "      <td>2</td>\n",
              "      <td>0</td>\n",
              "    </tr>\n",
              "    <tr>\n",
              "      <th>657336</th>\n",
              "      <td>1</td>\n",
              "      <td>38</td>\n",
              "      <td>1</td>\n",
              "      <td>2</td>\n",
              "      <td>1</td>\n",
              "      <td>2</td>\n",
              "      <td>3</td>\n",
              "    </tr>\n",
              "    <tr>\n",
              "      <th>...</th>\n",
              "      <td>...</td>\n",
              "      <td>...</td>\n",
              "      <td>...</td>\n",
              "      <td>...</td>\n",
              "      <td>...</td>\n",
              "      <td>...</td>\n",
              "      <td>...</td>\n",
              "    </tr>\n",
              "    <tr>\n",
              "      <th>1166765</th>\n",
              "      <td>1</td>\n",
              "      <td>22</td>\n",
              "      <td>0</td>\n",
              "      <td>33</td>\n",
              "      <td>1</td>\n",
              "      <td>2</td>\n",
              "      <td>1</td>\n",
              "    </tr>\n",
              "    <tr>\n",
              "      <th>1166764</th>\n",
              "      <td>1</td>\n",
              "      <td>23</td>\n",
              "      <td>0</td>\n",
              "      <td>33</td>\n",
              "      <td>1</td>\n",
              "      <td>2</td>\n",
              "      <td>1</td>\n",
              "    </tr>\n",
              "    <tr>\n",
              "      <th>1166763</th>\n",
              "      <td>2</td>\n",
              "      <td>47</td>\n",
              "      <td>1</td>\n",
              "      <td>33</td>\n",
              "      <td>1</td>\n",
              "      <td>2</td>\n",
              "      <td>0</td>\n",
              "    </tr>\n",
              "    <tr>\n",
              "      <th>1166789</th>\n",
              "      <td>2</td>\n",
              "      <td>22</td>\n",
              "      <td>0</td>\n",
              "      <td>33</td>\n",
              "      <td>1</td>\n",
              "      <td>2</td>\n",
              "      <td>4</td>\n",
              "    </tr>\n",
              "    <tr>\n",
              "      <th>1550586</th>\n",
              "      <td>2</td>\n",
              "      <td>37</td>\n",
              "      <td>1</td>\n",
              "      <td>0</td>\n",
              "      <td>1</td>\n",
              "      <td>3</td>\n",
              "      <td>0</td>\n",
              "    </tr>\n",
              "  </tbody>\n",
              "</table>\n",
              "<p>442909 rows × 7 columns</p>\n",
              "</div>\n",
              "      <button class=\"colab-df-convert\" onclick=\"convertToInteractive('df-652df733-abd5-40d2-9e41-46238cc189c0')\"\n",
              "              title=\"Convert this dataframe to an interactive table.\"\n",
              "              style=\"display:none;\">\n",
              "        \n",
              "  <svg xmlns=\"http://www.w3.org/2000/svg\" height=\"24px\"viewBox=\"0 0 24 24\"\n",
              "       width=\"24px\">\n",
              "    <path d=\"M0 0h24v24H0V0z\" fill=\"none\"/>\n",
              "    <path d=\"M18.56 5.44l.94 2.06.94-2.06 2.06-.94-2.06-.94-.94-2.06-.94 2.06-2.06.94zm-11 1L8.5 8.5l.94-2.06 2.06-.94-2.06-.94L8.5 2.5l-.94 2.06-2.06.94zm10 10l.94 2.06.94-2.06 2.06-.94-2.06-.94-.94-2.06-.94 2.06-2.06.94z\"/><path d=\"M17.41 7.96l-1.37-1.37c-.4-.4-.92-.59-1.43-.59-.52 0-1.04.2-1.43.59L10.3 9.45l-7.72 7.72c-.78.78-.78 2.05 0 2.83L4 21.41c.39.39.9.59 1.41.59.51 0 1.02-.2 1.41-.59l7.78-7.78 2.81-2.81c.8-.78.8-2.07 0-2.86zM5.41 20L4 18.59l7.72-7.72 1.47 1.35L5.41 20z\"/>\n",
              "  </svg>\n",
              "      </button>\n",
              "      \n",
              "  <style>\n",
              "    .colab-df-container {\n",
              "      display:flex;\n",
              "      flex-wrap:wrap;\n",
              "      gap: 12px;\n",
              "    }\n",
              "\n",
              "    .colab-df-convert {\n",
              "      background-color: #E8F0FE;\n",
              "      border: none;\n",
              "      border-radius: 50%;\n",
              "      cursor: pointer;\n",
              "      display: none;\n",
              "      fill: #1967D2;\n",
              "      height: 32px;\n",
              "      padding: 0 0 0 0;\n",
              "      width: 32px;\n",
              "    }\n",
              "\n",
              "    .colab-df-convert:hover {\n",
              "      background-color: #E2EBFA;\n",
              "      box-shadow: 0px 1px 2px rgba(60, 64, 67, 0.3), 0px 1px 3px 1px rgba(60, 64, 67, 0.15);\n",
              "      fill: #174EA6;\n",
              "    }\n",
              "\n",
              "    [theme=dark] .colab-df-convert {\n",
              "      background-color: #3B4455;\n",
              "      fill: #D2E3FC;\n",
              "    }\n",
              "\n",
              "    [theme=dark] .colab-df-convert:hover {\n",
              "      background-color: #434B5C;\n",
              "      box-shadow: 0px 1px 3px 1px rgba(0, 0, 0, 0.15);\n",
              "      filter: drop-shadow(0px 1px 2px rgba(0, 0, 0, 0.3));\n",
              "      fill: #FFFFFF;\n",
              "    }\n",
              "  </style>\n",
              "\n",
              "      <script>\n",
              "        const buttonEl =\n",
              "          document.querySelector('#df-652df733-abd5-40d2-9e41-46238cc189c0 button.colab-df-convert');\n",
              "        buttonEl.style.display =\n",
              "          google.colab.kernel.accessAllowed ? 'block' : 'none';\n",
              "\n",
              "        async function convertToInteractive(key) {\n",
              "          const element = document.querySelector('#df-652df733-abd5-40d2-9e41-46238cc189c0');\n",
              "          const dataTable =\n",
              "            await google.colab.kernel.invokeFunction('convertToInteractive',\n",
              "                                                     [key], {});\n",
              "          if (!dataTable) return;\n",
              "\n",
              "          const docLinkHtml = 'Like what you see? Visit the ' +\n",
              "            '<a target=\"_blank\" href=https://colab.research.google.com/notebooks/data_table.ipynb>data table notebook</a>'\n",
              "            + ' to learn more about interactive tables.';\n",
              "          element.innerHTML = '';\n",
              "          dataTable['output_type'] = 'display_data';\n",
              "          await google.colab.output.renderOutput(dataTable, element);\n",
              "          const docLink = document.createElement('div');\n",
              "          docLink.innerHTML = docLinkHtml;\n",
              "          element.appendChild(docLink);\n",
              "        }\n",
              "      </script>\n",
              "    </div>\n",
              "  </div>\n",
              "  "
            ]
          },
          "metadata": {},
          "execution_count": 763
        }
      ]
    },
    {
      "cell_type": "code",
      "source": [
        "CLUST_FINAL['CLUSTER'].value_counts()"
      ],
      "metadata": {
        "colab": {
          "base_uri": "https://localhost:8080/"
        },
        "id": "58GHiPwRpxT-",
        "outputId": "8120024f-2f0a-4556-ec12-526350761c49"
      },
      "execution_count": 764,
      "outputs": [
        {
          "output_type": "execute_result",
          "data": {
            "text/plain": [
              "4    91945\n",
              "3    89340\n",
              "0    82174\n",
              "1    72873\n",
              "2    53535\n",
              "5    53042\n",
              "Name: CLUSTER, dtype: int64"
            ]
          },
          "metadata": {},
          "execution_count": 764
        }
      ]
    },
    {
      "cell_type": "markdown",
      "source": [
        "#RECUPERACIÓN CATEGÓRICAS"
      ],
      "metadata": {
        "id": "BhNDHwol4Zpx"
      }
    },
    {
      "cell_type": "code",
      "source": [
        "CLUST_FINAL_CAT=CLUST.copy()"
      ],
      "metadata": {
        "id": "1AGhwZrH_k4T"
      },
      "execution_count": 765,
      "outputs": []
    },
    {
      "cell_type": "code",
      "source": [
        "CLUST_FINAL_CAT.set_index(\"ID_USR\", inplace = True)\n",
        "\n",
        "lc = [\n",
        "      'SEGMENTO', \n",
        "      'STATUS_CLIENTE',\n",
        "      'CANAL_ENTRADA', \n",
        "      'COM.AUTONOMA_ESP', \n",
        "]\n",
        "\n",
        "CLUST_FINAL_CAT = CLUST_FINAL_CAT[lc]"
      ],
      "metadata": {
        "id": "Q9fvDuBF4gl5"
      },
      "execution_count": 766,
      "outputs": []
    },
    {
      "cell_type": "code",
      "source": [
        "CLUST_FINAL_MERGED= CLUST_FINAL.merge(CLUST_FINAL_CAT, on='ID_USR', how='left')"
      ],
      "metadata": {
        "id": "lS_Sm--S-wx_"
      },
      "execution_count": 767,
      "outputs": []
    },
    {
      "cell_type": "code",
      "source": [
        "columnas_id=[      \n",
        " #     'SEGMENTO_ID', \n",
        "      'STATUS_ID',\n",
        " #     'CANAL_ENT_ID', \n",
        " #     'CCAA_ID', \n",
        "      ]\n",
        "CLUST_FINAL_MERGED.drop(columnas_id, axis=1, inplace = True)"
      ],
      "metadata": {
        "id": "J_d4Ark674Re"
      },
      "execution_count": 768,
      "outputs": []
    },
    {
      "cell_type": "code",
      "source": [
        "#CLUST_FINAL_MERGED['SEXO']=CLUST_FINAL_MERGED['SEXO'].astype(object)\n",
        "#CLUST_FINAL_MERGED['DE_ESPAÑA']=CLUST_FINAL_MERGED['DE_ESPAÑA'].astype(object)\n",
        "#CLUST_FINAL_MERGED['ACTIVO/A']=CLUST_FINAL_MERGED['ACTIVO/A'].astype(object)"
      ],
      "metadata": {
        "id": "ra5o-a4xBt3M"
      },
      "execution_count": 769,
      "outputs": []
    },
    {
      "cell_type": "code",
      "source": [
        "CLUST_FINAL_MERGED['SEXO']=np.where(CLUST_FINAL_MERGED['SEXO']==1,'HOMBRE',CLUST_FINAL_MERGED['SEXO'])\n",
        "CLUST_FINAL_MERGED['SEXO']=np.where(CLUST_FINAL_MERGED['SEXO']=='2','MUJER',CLUST_FINAL_MERGED['SEXO'])\n",
        "CLUST_FINAL_MERGED['ACTIVO/A']=np.where(CLUST_FINAL_MERGED['ACTIVO/A']==1,'SI',CLUST_FINAL_MERGED['ACTIVO/A'])\n",
        "CLUST_FINAL_MERGED['ACTIVO/A']=np.where(CLUST_FINAL_MERGED['ACTIVO/A']=='0','NO',CLUST_FINAL_MERGED['ACTIVO/A'])"
      ],
      "metadata": {
        "id": "nHLQ0ygDTKzr"
      },
      "execution_count": 770,
      "outputs": []
    },
    {
      "cell_type": "code",
      "source": [
        "CLUST_FINAL_MERGED"
      ],
      "metadata": {
        "colab": {
          "base_uri": "https://localhost:8080/",
          "height": 455
        },
        "id": "mI-nk-RYBBYo",
        "outputId": "79df8f66-5ca1-41b9-b6fc-244fe7d08893"
      },
      "execution_count": 771,
      "outputs": [
        {
          "output_type": "execute_result",
          "data": {
            "text/plain": [
              "           SEXO  EDAD ACTIVO/A  ANTIGUEDAD_MESES  TOTAL_PROD  CLUSTER  \\\n",
              "ID_USR                                                                  \n",
              "657826    MUJER    44       SI                48           1        0   \n",
              "657817   HOMBRE    32       NO                 0           0        5   \n",
              "657986    MUJER    39       SI                39           6        0   \n",
              "657905    MUJER    85       SI                27           2        0   \n",
              "657336   HOMBRE    38       SI                 2           1        3   \n",
              "...         ...   ...      ...               ...         ...      ...   \n",
              "1166765  HOMBRE    22       NO                33           1        1   \n",
              "1166764  HOMBRE    23       NO                33           1        1   \n",
              "1166763   MUJER    47       SI                33           1        0   \n",
              "1166789   MUJER    22       NO                33           1        4   \n",
              "1550586   MUJER    37       SI                 0           1        0   \n",
              "\n",
              "                   SEGMENTO      STATUS_CLIENTE CANAL_ENTRADA COM.AUTONOMA_ESP  \n",
              "ID_USR                                                                          \n",
              "657826    02 - PARTICULARES  CLIENTE FIDELIZADO           013         CATALUÑA  \n",
              "657817           04 - OTROS   CLIENTE POTENCIAL           DES         CATALUÑA  \n",
              "657986    02 - PARTICULARES  CLIENTE FIDELIZADO           KAF        ANDALUCIA  \n",
              "657905             01 - TOP  CLIENTE FIDELIZADO           KAT           MADRID  \n",
              "657336    02 - PARTICULARES  CLIENTE FIDELIZADO           KAT           MADRID  \n",
              "...                     ...                 ...           ...              ...  \n",
              "1166765  03 - UNIVERSITARIO  CLIENTE FIDELIZADO           KHE           ARAGON  \n",
              "1166764  03 - UNIVERSITARIO  CLIENTE FIDELIZADO           KHE         LA RIOJA  \n",
              "1166763   02 - PARTICULARES  CLIENTE FIDELIZADO           KHE           ARAGON  \n",
              "1166789  03 - UNIVERSITARIO  CLIENTE FIDELIZADO           KHE           ARAGON  \n",
              "1550586          04 - OTROS       CLIENTE NUEVO           DES           MADRID  \n",
              "\n",
              "[442909 rows x 10 columns]"
            ],
            "text/html": [
              "\n",
              "  <div id=\"df-75e01b3b-cca3-4ba8-b97f-5e893dcd9ef3\">\n",
              "    <div class=\"colab-df-container\">\n",
              "      <div>\n",
              "<style scoped>\n",
              "    .dataframe tbody tr th:only-of-type {\n",
              "        vertical-align: middle;\n",
              "    }\n",
              "\n",
              "    .dataframe tbody tr th {\n",
              "        vertical-align: top;\n",
              "    }\n",
              "\n",
              "    .dataframe thead th {\n",
              "        text-align: right;\n",
              "    }\n",
              "</style>\n",
              "<table border=\"1\" class=\"dataframe\">\n",
              "  <thead>\n",
              "    <tr style=\"text-align: right;\">\n",
              "      <th></th>\n",
              "      <th>SEXO</th>\n",
              "      <th>EDAD</th>\n",
              "      <th>ACTIVO/A</th>\n",
              "      <th>ANTIGUEDAD_MESES</th>\n",
              "      <th>TOTAL_PROD</th>\n",
              "      <th>CLUSTER</th>\n",
              "      <th>SEGMENTO</th>\n",
              "      <th>STATUS_CLIENTE</th>\n",
              "      <th>CANAL_ENTRADA</th>\n",
              "      <th>COM.AUTONOMA_ESP</th>\n",
              "    </tr>\n",
              "    <tr>\n",
              "      <th>ID_USR</th>\n",
              "      <th></th>\n",
              "      <th></th>\n",
              "      <th></th>\n",
              "      <th></th>\n",
              "      <th></th>\n",
              "      <th></th>\n",
              "      <th></th>\n",
              "      <th></th>\n",
              "      <th></th>\n",
              "      <th></th>\n",
              "    </tr>\n",
              "  </thead>\n",
              "  <tbody>\n",
              "    <tr>\n",
              "      <th>657826</th>\n",
              "      <td>MUJER</td>\n",
              "      <td>44</td>\n",
              "      <td>SI</td>\n",
              "      <td>48</td>\n",
              "      <td>1</td>\n",
              "      <td>0</td>\n",
              "      <td>02 - PARTICULARES</td>\n",
              "      <td>CLIENTE FIDELIZADO</td>\n",
              "      <td>013</td>\n",
              "      <td>CATALUÑA</td>\n",
              "    </tr>\n",
              "    <tr>\n",
              "      <th>657817</th>\n",
              "      <td>HOMBRE</td>\n",
              "      <td>32</td>\n",
              "      <td>NO</td>\n",
              "      <td>0</td>\n",
              "      <td>0</td>\n",
              "      <td>5</td>\n",
              "      <td>04 - OTROS</td>\n",
              "      <td>CLIENTE POTENCIAL</td>\n",
              "      <td>DES</td>\n",
              "      <td>CATALUÑA</td>\n",
              "    </tr>\n",
              "    <tr>\n",
              "      <th>657986</th>\n",
              "      <td>MUJER</td>\n",
              "      <td>39</td>\n",
              "      <td>SI</td>\n",
              "      <td>39</td>\n",
              "      <td>6</td>\n",
              "      <td>0</td>\n",
              "      <td>02 - PARTICULARES</td>\n",
              "      <td>CLIENTE FIDELIZADO</td>\n",
              "      <td>KAF</td>\n",
              "      <td>ANDALUCIA</td>\n",
              "    </tr>\n",
              "    <tr>\n",
              "      <th>657905</th>\n",
              "      <td>MUJER</td>\n",
              "      <td>85</td>\n",
              "      <td>SI</td>\n",
              "      <td>27</td>\n",
              "      <td>2</td>\n",
              "      <td>0</td>\n",
              "      <td>01 - TOP</td>\n",
              "      <td>CLIENTE FIDELIZADO</td>\n",
              "      <td>KAT</td>\n",
              "      <td>MADRID</td>\n",
              "    </tr>\n",
              "    <tr>\n",
              "      <th>657336</th>\n",
              "      <td>HOMBRE</td>\n",
              "      <td>38</td>\n",
              "      <td>SI</td>\n",
              "      <td>2</td>\n",
              "      <td>1</td>\n",
              "      <td>3</td>\n",
              "      <td>02 - PARTICULARES</td>\n",
              "      <td>CLIENTE FIDELIZADO</td>\n",
              "      <td>KAT</td>\n",
              "      <td>MADRID</td>\n",
              "    </tr>\n",
              "    <tr>\n",
              "      <th>...</th>\n",
              "      <td>...</td>\n",
              "      <td>...</td>\n",
              "      <td>...</td>\n",
              "      <td>...</td>\n",
              "      <td>...</td>\n",
              "      <td>...</td>\n",
              "      <td>...</td>\n",
              "      <td>...</td>\n",
              "      <td>...</td>\n",
              "      <td>...</td>\n",
              "    </tr>\n",
              "    <tr>\n",
              "      <th>1166765</th>\n",
              "      <td>HOMBRE</td>\n",
              "      <td>22</td>\n",
              "      <td>NO</td>\n",
              "      <td>33</td>\n",
              "      <td>1</td>\n",
              "      <td>1</td>\n",
              "      <td>03 - UNIVERSITARIO</td>\n",
              "      <td>CLIENTE FIDELIZADO</td>\n",
              "      <td>KHE</td>\n",
              "      <td>ARAGON</td>\n",
              "    </tr>\n",
              "    <tr>\n",
              "      <th>1166764</th>\n",
              "      <td>HOMBRE</td>\n",
              "      <td>23</td>\n",
              "      <td>NO</td>\n",
              "      <td>33</td>\n",
              "      <td>1</td>\n",
              "      <td>1</td>\n",
              "      <td>03 - UNIVERSITARIO</td>\n",
              "      <td>CLIENTE FIDELIZADO</td>\n",
              "      <td>KHE</td>\n",
              "      <td>LA RIOJA</td>\n",
              "    </tr>\n",
              "    <tr>\n",
              "      <th>1166763</th>\n",
              "      <td>MUJER</td>\n",
              "      <td>47</td>\n",
              "      <td>SI</td>\n",
              "      <td>33</td>\n",
              "      <td>1</td>\n",
              "      <td>0</td>\n",
              "      <td>02 - PARTICULARES</td>\n",
              "      <td>CLIENTE FIDELIZADO</td>\n",
              "      <td>KHE</td>\n",
              "      <td>ARAGON</td>\n",
              "    </tr>\n",
              "    <tr>\n",
              "      <th>1166789</th>\n",
              "      <td>MUJER</td>\n",
              "      <td>22</td>\n",
              "      <td>NO</td>\n",
              "      <td>33</td>\n",
              "      <td>1</td>\n",
              "      <td>4</td>\n",
              "      <td>03 - UNIVERSITARIO</td>\n",
              "      <td>CLIENTE FIDELIZADO</td>\n",
              "      <td>KHE</td>\n",
              "      <td>ARAGON</td>\n",
              "    </tr>\n",
              "    <tr>\n",
              "      <th>1550586</th>\n",
              "      <td>MUJER</td>\n",
              "      <td>37</td>\n",
              "      <td>SI</td>\n",
              "      <td>0</td>\n",
              "      <td>1</td>\n",
              "      <td>0</td>\n",
              "      <td>04 - OTROS</td>\n",
              "      <td>CLIENTE NUEVO</td>\n",
              "      <td>DES</td>\n",
              "      <td>MADRID</td>\n",
              "    </tr>\n",
              "  </tbody>\n",
              "</table>\n",
              "<p>442909 rows × 10 columns</p>\n",
              "</div>\n",
              "      <button class=\"colab-df-convert\" onclick=\"convertToInteractive('df-75e01b3b-cca3-4ba8-b97f-5e893dcd9ef3')\"\n",
              "              title=\"Convert this dataframe to an interactive table.\"\n",
              "              style=\"display:none;\">\n",
              "        \n",
              "  <svg xmlns=\"http://www.w3.org/2000/svg\" height=\"24px\"viewBox=\"0 0 24 24\"\n",
              "       width=\"24px\">\n",
              "    <path d=\"M0 0h24v24H0V0z\" fill=\"none\"/>\n",
              "    <path d=\"M18.56 5.44l.94 2.06.94-2.06 2.06-.94-2.06-.94-.94-2.06-.94 2.06-2.06.94zm-11 1L8.5 8.5l.94-2.06 2.06-.94-2.06-.94L8.5 2.5l-.94 2.06-2.06.94zm10 10l.94 2.06.94-2.06 2.06-.94-2.06-.94-.94-2.06-.94 2.06-2.06.94z\"/><path d=\"M17.41 7.96l-1.37-1.37c-.4-.4-.92-.59-1.43-.59-.52 0-1.04.2-1.43.59L10.3 9.45l-7.72 7.72c-.78.78-.78 2.05 0 2.83L4 21.41c.39.39.9.59 1.41.59.51 0 1.02-.2 1.41-.59l7.78-7.78 2.81-2.81c.8-.78.8-2.07 0-2.86zM5.41 20L4 18.59l7.72-7.72 1.47 1.35L5.41 20z\"/>\n",
              "  </svg>\n",
              "      </button>\n",
              "      \n",
              "  <style>\n",
              "    .colab-df-container {\n",
              "      display:flex;\n",
              "      flex-wrap:wrap;\n",
              "      gap: 12px;\n",
              "    }\n",
              "\n",
              "    .colab-df-convert {\n",
              "      background-color: #E8F0FE;\n",
              "      border: none;\n",
              "      border-radius: 50%;\n",
              "      cursor: pointer;\n",
              "      display: none;\n",
              "      fill: #1967D2;\n",
              "      height: 32px;\n",
              "      padding: 0 0 0 0;\n",
              "      width: 32px;\n",
              "    }\n",
              "\n",
              "    .colab-df-convert:hover {\n",
              "      background-color: #E2EBFA;\n",
              "      box-shadow: 0px 1px 2px rgba(60, 64, 67, 0.3), 0px 1px 3px 1px rgba(60, 64, 67, 0.15);\n",
              "      fill: #174EA6;\n",
              "    }\n",
              "\n",
              "    [theme=dark] .colab-df-convert {\n",
              "      background-color: #3B4455;\n",
              "      fill: #D2E3FC;\n",
              "    }\n",
              "\n",
              "    [theme=dark] .colab-df-convert:hover {\n",
              "      background-color: #434B5C;\n",
              "      box-shadow: 0px 1px 3px 1px rgba(0, 0, 0, 0.15);\n",
              "      filter: drop-shadow(0px 1px 2px rgba(0, 0, 0, 0.3));\n",
              "      fill: #FFFFFF;\n",
              "    }\n",
              "  </style>\n",
              "\n",
              "      <script>\n",
              "        const buttonEl =\n",
              "          document.querySelector('#df-75e01b3b-cca3-4ba8-b97f-5e893dcd9ef3 button.colab-df-convert');\n",
              "        buttonEl.style.display =\n",
              "          google.colab.kernel.accessAllowed ? 'block' : 'none';\n",
              "\n",
              "        async function convertToInteractive(key) {\n",
              "          const element = document.querySelector('#df-75e01b3b-cca3-4ba8-b97f-5e893dcd9ef3');\n",
              "          const dataTable =\n",
              "            await google.colab.kernel.invokeFunction('convertToInteractive',\n",
              "                                                     [key], {});\n",
              "          if (!dataTable) return;\n",
              "\n",
              "          const docLinkHtml = 'Like what you see? Visit the ' +\n",
              "            '<a target=\"_blank\" href=https://colab.research.google.com/notebooks/data_table.ipynb>data table notebook</a>'\n",
              "            + ' to learn more about interactive tables.';\n",
              "          element.innerHTML = '';\n",
              "          dataTable['output_type'] = 'display_data';\n",
              "          await google.colab.output.renderOutput(dataTable, element);\n",
              "          const docLink = document.createElement('div');\n",
              "          docLink.innerHTML = docLinkHtml;\n",
              "          element.appendChild(docLink);\n",
              "        }\n",
              "      </script>\n",
              "    </div>\n",
              "  </div>\n",
              "  "
            ]
          },
          "metadata": {},
          "execution_count": 771
        }
      ]
    },
    {
      "cell_type": "code",
      "source": [
        "CLUST_FINAL_MERGED.to_csv(\"/content/drive/MyDrive/TFM/data/CLUSTERS.csv\")"
      ],
      "metadata": {
        "id": "cEpZ1tnqKMnJ"
      },
      "execution_count": 772,
      "outputs": []
    },
    {
      "cell_type": "markdown",
      "source": [
        "#FICHAS CLIENTES"
      ],
      "metadata": {
        "id": "dMTFaKCKx7wh"
      }
    },
    {
      "cell_type": "markdown",
      "source": [
        "Creamos unas fichas con las variables que han determinado los clusters para entenderlos mejor y poderlos definir, y también con otras para comprobar si hay alguna sinergia imprevista que resulte interesante contemplar"
      ],
      "metadata": {
        "id": "d3xsOXJ7i2-v"
      }
    },
    {
      "cell_type": "code",
      "source": [
        "fichas = pd.DataFrame()"
      ],
      "metadata": {
        "id": "0uazT3zEx1mY"
      },
      "execution_count": 773,
      "outputs": []
    },
    {
      "cell_type": "code",
      "source": [
        "estadisticos_num = [\"Media\", \"Desviación\", \"Mínimo\", \"Perc. 25\", \"Perc. 50\", \"Perc. 75\", \"Máximo\"]\n",
        "estadisticos_cat = [\"Únicos\", \"Moda\", \"Frecuencia\"]"
      ],
      "metadata": {
        "id": "5fadqjPtWkLu"
      },
      "execution_count": 774,
      "outputs": []
    },
    {
      "cell_type": "code",
      "source": [
        "# multiindex demográficos\n",
        "out_index = [\n",
        "    \"Demográficos\",\n",
        "    \"Demográficos\",\n",
        "]\n",
        "\n",
        "inner_demog_cat = [\n",
        "    \"Sexo\",\n",
        "]\n",
        "inner_demog_num = [\n",
        "    \"Edad\",     \n",
        "]\n",
        "\n",
        "new_multi_index = []\n",
        "\n",
        "for oi, ii, in zip(out_index, inner_demog_cat):\n",
        "    for es in estadisticos_cat:\n",
        "        new_multi_index.append((oi, ii, es))\n",
        "\n",
        "for oi, ii, in zip(out_index, inner_demog_num):\n",
        "    for es in estadisticos_num:\n",
        "        new_multi_index.append((oi, ii, es)) \n",
        "\n",
        "new_multi_index"
      ],
      "metadata": {
        "colab": {
          "base_uri": "https://localhost:8080/"
        },
        "id": "zphKtndHI3rF",
        "outputId": "529f8b37-2b58-47da-e904-fa2e4e5e00fa"
      },
      "execution_count": 775,
      "outputs": [
        {
          "output_type": "execute_result",
          "data": {
            "text/plain": [
              "[('Demográficos', 'Sexo', 'Únicos'),\n",
              " ('Demográficos', 'Sexo', 'Moda'),\n",
              " ('Demográficos', 'Sexo', 'Frecuencia'),\n",
              " ('Demográficos', 'Edad', 'Media'),\n",
              " ('Demográficos', 'Edad', 'Desviación'),\n",
              " ('Demográficos', 'Edad', 'Mínimo'),\n",
              " ('Demográficos', 'Edad', 'Perc. 25'),\n",
              " ('Demográficos', 'Edad', 'Perc. 50'),\n",
              " ('Demográficos', 'Edad', 'Perc. 75'),\n",
              " ('Demográficos', 'Edad', 'Máximo')]"
            ]
          },
          "metadata": {},
          "execution_count": 775
        }
      ]
    },
    {
      "cell_type": "code",
      "source": [
        "# multiindex vinculación\n",
        "out_index = [\n",
        "    \"Vinculación\",\n",
        "    \"Vinculación\",\n",
        "]\n",
        "\n",
        "inner_vinc_cat = [\n",
        "    \"Activo/a\",\n",
        "]\n",
        "\n",
        "inner_vinc_num = [\n",
        "    \"Antig. en meses\",     \n",
        "]\n",
        "\n",
        "for oi, ii, in zip(out_index, inner_vinc_cat):\n",
        "    for es in estadisticos_cat:\n",
        "        new_multi_index.append((oi, ii, es))\n",
        "\n",
        "for oi, ii, in zip(out_index, inner_vinc_num):\n",
        "    for es in estadisticos_num:\n",
        "        new_multi_index.append((oi, ii, es)) \n",
        "\n",
        "new_multi_index"
      ],
      "metadata": {
        "colab": {
          "base_uri": "https://localhost:8080/"
        },
        "id": "6UACwTUIWYFs",
        "outputId": "13bc596f-b0df-49ba-9977-592a4df7541b"
      },
      "execution_count": 776,
      "outputs": [
        {
          "output_type": "execute_result",
          "data": {
            "text/plain": [
              "[('Demográficos', 'Sexo', 'Únicos'),\n",
              " ('Demográficos', 'Sexo', 'Moda'),\n",
              " ('Demográficos', 'Sexo', 'Frecuencia'),\n",
              " ('Demográficos', 'Edad', 'Media'),\n",
              " ('Demográficos', 'Edad', 'Desviación'),\n",
              " ('Demográficos', 'Edad', 'Mínimo'),\n",
              " ('Demográficos', 'Edad', 'Perc. 25'),\n",
              " ('Demográficos', 'Edad', 'Perc. 50'),\n",
              " ('Demográficos', 'Edad', 'Perc. 75'),\n",
              " ('Demográficos', 'Edad', 'Máximo'),\n",
              " ('Vinculación', 'Activo/a', 'Únicos'),\n",
              " ('Vinculación', 'Activo/a', 'Moda'),\n",
              " ('Vinculación', 'Activo/a', 'Frecuencia'),\n",
              " ('Vinculación', 'Antig. en meses', 'Media'),\n",
              " ('Vinculación', 'Antig. en meses', 'Desviación'),\n",
              " ('Vinculación', 'Antig. en meses', 'Mínimo'),\n",
              " ('Vinculación', 'Antig. en meses', 'Perc. 25'),\n",
              " ('Vinculación', 'Antig. en meses', 'Perc. 50'),\n",
              " ('Vinculación', 'Antig. en meses', 'Perc. 75'),\n",
              " ('Vinculación', 'Antig. en meses', 'Máximo')]"
            ]
          },
          "metadata": {},
          "execution_count": 776
        }
      ]
    },
    {
      "cell_type": "code",
      "source": [
        "# multiindex comercial\n",
        "out_index = [\n",
        "    \"Comercial\", \n",
        "    \"Comercial\",\n",
        "]\n",
        "\n",
        "inner_com_cat = [\n",
        "    \"Status cliente\",\n",
        "]\n",
        "\n",
        "inner_com_num = [\n",
        "    \"Total productos\",     \n",
        "]\n",
        "\n",
        "for oi, ii, in zip(out_index, inner_com_num):\n",
        "    for es in estadisticos_num:\n",
        "        new_multi_index.append((oi, ii, es)) \n",
        "\n",
        "for oi, ii, in zip(out_index, inner_com_cat):\n",
        "    for es in estadisticos_cat:\n",
        "        new_multi_index.append((oi, ii, es))\n",
        "\n",
        "\n",
        "new_multi_index"
      ],
      "metadata": {
        "colab": {
          "base_uri": "https://localhost:8080/"
        },
        "id": "taKnvFHzWYOv",
        "outputId": "b963652f-6fc3-4839-dceb-1955c55b3a3e"
      },
      "execution_count": 777,
      "outputs": [
        {
          "output_type": "execute_result",
          "data": {
            "text/plain": [
              "[('Demográficos', 'Sexo', 'Únicos'),\n",
              " ('Demográficos', 'Sexo', 'Moda'),\n",
              " ('Demográficos', 'Sexo', 'Frecuencia'),\n",
              " ('Demográficos', 'Edad', 'Media'),\n",
              " ('Demográficos', 'Edad', 'Desviación'),\n",
              " ('Demográficos', 'Edad', 'Mínimo'),\n",
              " ('Demográficos', 'Edad', 'Perc. 25'),\n",
              " ('Demográficos', 'Edad', 'Perc. 50'),\n",
              " ('Demográficos', 'Edad', 'Perc. 75'),\n",
              " ('Demográficos', 'Edad', 'Máximo'),\n",
              " ('Vinculación', 'Activo/a', 'Únicos'),\n",
              " ('Vinculación', 'Activo/a', 'Moda'),\n",
              " ('Vinculación', 'Activo/a', 'Frecuencia'),\n",
              " ('Vinculación', 'Antig. en meses', 'Media'),\n",
              " ('Vinculación', 'Antig. en meses', 'Desviación'),\n",
              " ('Vinculación', 'Antig. en meses', 'Mínimo'),\n",
              " ('Vinculación', 'Antig. en meses', 'Perc. 25'),\n",
              " ('Vinculación', 'Antig. en meses', 'Perc. 50'),\n",
              " ('Vinculación', 'Antig. en meses', 'Perc. 75'),\n",
              " ('Vinculación', 'Antig. en meses', 'Máximo'),\n",
              " ('Comercial', 'Total productos', 'Media'),\n",
              " ('Comercial', 'Total productos', 'Desviación'),\n",
              " ('Comercial', 'Total productos', 'Mínimo'),\n",
              " ('Comercial', 'Total productos', 'Perc. 25'),\n",
              " ('Comercial', 'Total productos', 'Perc. 50'),\n",
              " ('Comercial', 'Total productos', 'Perc. 75'),\n",
              " ('Comercial', 'Total productos', 'Máximo'),\n",
              " ('Comercial', 'Status cliente', 'Únicos'),\n",
              " ('Comercial', 'Status cliente', 'Moda'),\n",
              " ('Comercial', 'Status cliente', 'Frecuencia')]"
            ]
          },
          "metadata": {},
          "execution_count": 777
        }
      ]
    },
    {
      "cell_type": "code",
      "source": [
        "for i, col in enumerate([ \n",
        "      'SEXO',\n",
        "      'EDAD',\n",
        "  #    'SALARIO',\n",
        "     # 'DE_ESPAÑA',\n",
        "      'ACTIVO/A',\n",
        "      'ANTIGUEDAD_MESES',       \n",
        "      'TOTAL_PROD',\n",
        "      'STATUS_CLIENTE',      \n",
        " #     'SEGMENTO',       \n",
        " #     'CANAL_ENTRADA', \n",
        " #     'COM.AUTONOMA_ESP', \n",
        "                          ]):\n",
        "    resumen_data = CLUST_FINAL_MERGED[[\"CLUSTER\", col]].groupby(\"CLUSTER\").describe().T[1:]\n",
        "    fichas = fichas.append(resumen_data)"
      ],
      "metadata": {
        "colab": {
          "base_uri": "https://localhost:8080/"
        },
        "id": "xP5cebEiyEzI",
        "outputId": "e1aa88ee-1a07-4a97-e4cc-3c2810d378fb"
      },
      "execution_count": 778,
      "outputs": [
        {
          "output_type": "stream",
          "name": "stderr",
          "text": [
            "<ipython-input-778-350e067dcfee>:15: FutureWarning: The frame.append method is deprecated and will be removed from pandas in a future version. Use pandas.concat instead.\n",
            "  fichas = fichas.append(resumen_data)\n",
            "<ipython-input-778-350e067dcfee>:15: FutureWarning: The frame.append method is deprecated and will be removed from pandas in a future version. Use pandas.concat instead.\n",
            "  fichas = fichas.append(resumen_data)\n",
            "<ipython-input-778-350e067dcfee>:15: FutureWarning: The frame.append method is deprecated and will be removed from pandas in a future version. Use pandas.concat instead.\n",
            "  fichas = fichas.append(resumen_data)\n",
            "<ipython-input-778-350e067dcfee>:15: FutureWarning: The frame.append method is deprecated and will be removed from pandas in a future version. Use pandas.concat instead.\n",
            "  fichas = fichas.append(resumen_data)\n",
            "<ipython-input-778-350e067dcfee>:15: FutureWarning: The frame.append method is deprecated and will be removed from pandas in a future version. Use pandas.concat instead.\n",
            "  fichas = fichas.append(resumen_data)\n",
            "<ipython-input-778-350e067dcfee>:15: FutureWarning: The frame.append method is deprecated and will be removed from pandas in a future version. Use pandas.concat instead.\n",
            "  fichas = fichas.append(resumen_data)\n"
          ]
        }
      ]
    },
    {
      "cell_type": "code",
      "source": [
        "def generate_multiindex(list_of_tuples, names):\n",
        "    return pd.MultiIndex.from_tuples(list_of_tuples, names = names)"
      ],
      "metadata": {
        "id": "4TCVPAYzI-GY"
      },
      "execution_count": 779,
      "outputs": []
    },
    {
      "cell_type": "code",
      "source": [
        "names = [\"Tipo de indicador\", \"Indicador\", \" \"]\n",
        "index_ficha = generate_multiindex(new_multi_index, names)\n",
        "fichas.set_index(index_ficha, inplace = True)"
      ],
      "metadata": {
        "id": "Uw6llTqzI-N-"
      },
      "execution_count": 780,
      "outputs": []
    },
    {
      "cell_type": "code",
      "source": [
        "tamaño_clusters = CLUST_FINAL_MERGED.groupby(\"CLUSTER\").size().to_frame().T\n",
        "tamaño_clusters.set_index(generate_multiindex([(\"General\", \" \", \"Tamaño\")] , names), inplace = True)"
      ],
      "metadata": {
        "id": "XdZ_GGKRJBWV"
      },
      "execution_count": 781,
      "outputs": []
    },
    {
      "cell_type": "code",
      "source": [
        "fichas = tamaño_clusters.append(fichas)"
      ],
      "metadata": {
        "colab": {
          "base_uri": "https://localhost:8080/"
        },
        "id": "mGDA_ZXUJENs",
        "outputId": "07749d97-09a1-43a7-bbf5-08799ac8e4b5"
      },
      "execution_count": 782,
      "outputs": [
        {
          "output_type": "stream",
          "name": "stderr",
          "text": [
            "<ipython-input-782-fb96e7d1c61f>:1: FutureWarning: The frame.append method is deprecated and will be removed from pandas in a future version. Use pandas.concat instead.\n",
            "  fichas = tamaño_clusters.append(fichas)\n"
          ]
        }
      ]
    },
    {
      "cell_type": "code",
      "source": [
        "fichas.style.background_gradient(cmap = 'Blues', axis = 1)"
      ],
      "metadata": {
        "colab": {
          "base_uri": "https://localhost:8080/",
          "height": 1000
        },
        "id": "7kcqueeu0VNg",
        "outputId": "a7150359-823a-4d86-e9a0-efed942faeb6"
      },
      "execution_count": 783,
      "outputs": [
        {
          "output_type": "execute_result",
          "data": {
            "text/plain": [
              "<pandas.io.formats.style.Styler at 0x7f65a7d65520>"
            ],
            "text/html": [
              "<style type=\"text/css\">\n",
              "</style>\n",
              "<table id=\"T_b7fa3\" class=\"dataframe\">\n",
              "  <thead>\n",
              "    <tr>\n",
              "      <th class=\"blank\" >&nbsp;</th>\n",
              "      <th class=\"blank\" >&nbsp;</th>\n",
              "      <th class=\"index_name level0\" >CLUSTER</th>\n",
              "      <th id=\"T_b7fa3_level0_col0\" class=\"col_heading level0 col0\" >0</th>\n",
              "      <th id=\"T_b7fa3_level0_col1\" class=\"col_heading level0 col1\" >1</th>\n",
              "      <th id=\"T_b7fa3_level0_col2\" class=\"col_heading level0 col2\" >2</th>\n",
              "      <th id=\"T_b7fa3_level0_col3\" class=\"col_heading level0 col3\" >3</th>\n",
              "      <th id=\"T_b7fa3_level0_col4\" class=\"col_heading level0 col4\" >4</th>\n",
              "      <th id=\"T_b7fa3_level0_col5\" class=\"col_heading level0 col5\" >5</th>\n",
              "    </tr>\n",
              "    <tr>\n",
              "      <th class=\"index_name level0\" >Tipo de indicador</th>\n",
              "      <th class=\"index_name level1\" >Indicador</th>\n",
              "      <th class=\"index_name level2\" > </th>\n",
              "      <th class=\"blank col0\" >&nbsp;</th>\n",
              "      <th class=\"blank col1\" >&nbsp;</th>\n",
              "      <th class=\"blank col2\" >&nbsp;</th>\n",
              "      <th class=\"blank col3\" >&nbsp;</th>\n",
              "      <th class=\"blank col4\" >&nbsp;</th>\n",
              "      <th class=\"blank col5\" >&nbsp;</th>\n",
              "    </tr>\n",
              "  </thead>\n",
              "  <tbody>\n",
              "    <tr>\n",
              "      <th id=\"T_b7fa3_level0_row0\" class=\"row_heading level0 row0\" >General</th>\n",
              "      <th id=\"T_b7fa3_level1_row0\" class=\"row_heading level1 row0\" > </th>\n",
              "      <th id=\"T_b7fa3_level2_row0\" class=\"row_heading level2 row0\" >Tamaño</th>\n",
              "      <td id=\"T_b7fa3_row0_col0\" class=\"data row0 col0\" >82174</td>\n",
              "      <td id=\"T_b7fa3_row0_col1\" class=\"data row0 col1\" >72873</td>\n",
              "      <td id=\"T_b7fa3_row0_col2\" class=\"data row0 col2\" >53535</td>\n",
              "      <td id=\"T_b7fa3_row0_col3\" class=\"data row0 col3\" >89340</td>\n",
              "      <td id=\"T_b7fa3_row0_col4\" class=\"data row0 col4\" >91945</td>\n",
              "      <td id=\"T_b7fa3_row0_col5\" class=\"data row0 col5\" >53042</td>\n",
              "    </tr>\n",
              "    <tr>\n",
              "      <th id=\"T_b7fa3_level0_row1\" class=\"row_heading level0 row1\" rowspan=\"10\">Demográficos</th>\n",
              "      <th id=\"T_b7fa3_level1_row1\" class=\"row_heading level1 row1\" rowspan=\"3\">Sexo</th>\n",
              "      <th id=\"T_b7fa3_level2_row1\" class=\"row_heading level2 row1\" >Únicos</th>\n",
              "      <td id=\"T_b7fa3_row1_col0\" class=\"data row1 col0\" >1</td>\n",
              "      <td id=\"T_b7fa3_row1_col1\" class=\"data row1 col1\" >1</td>\n",
              "      <td id=\"T_b7fa3_row1_col2\" class=\"data row1 col2\" >1</td>\n",
              "      <td id=\"T_b7fa3_row1_col3\" class=\"data row1 col3\" >1</td>\n",
              "      <td id=\"T_b7fa3_row1_col4\" class=\"data row1 col4\" >1</td>\n",
              "      <td id=\"T_b7fa3_row1_col5\" class=\"data row1 col5\" >1</td>\n",
              "    </tr>\n",
              "    <tr>\n",
              "      <th id=\"T_b7fa3_level2_row2\" class=\"row_heading level2 row2\" >Moda</th>\n",
              "      <td id=\"T_b7fa3_row2_col0\" class=\"data row2 col0\" >MUJER</td>\n",
              "      <td id=\"T_b7fa3_row2_col1\" class=\"data row2 col1\" >HOMBRE</td>\n",
              "      <td id=\"T_b7fa3_row2_col2\" class=\"data row2 col2\" >MUJER</td>\n",
              "      <td id=\"T_b7fa3_row2_col3\" class=\"data row2 col3\" >HOMBRE</td>\n",
              "      <td id=\"T_b7fa3_row2_col4\" class=\"data row2 col4\" >MUJER</td>\n",
              "      <td id=\"T_b7fa3_row2_col5\" class=\"data row2 col5\" >HOMBRE</td>\n",
              "    </tr>\n",
              "    <tr>\n",
              "      <th id=\"T_b7fa3_level2_row3\" class=\"row_heading level2 row3\" >Frecuencia</th>\n",
              "      <td id=\"T_b7fa3_row3_col0\" class=\"data row3 col0\" >82174</td>\n",
              "      <td id=\"T_b7fa3_row3_col1\" class=\"data row3 col1\" >72873</td>\n",
              "      <td id=\"T_b7fa3_row3_col2\" class=\"data row3 col2\" >53535</td>\n",
              "      <td id=\"T_b7fa3_row3_col3\" class=\"data row3 col3\" >89340</td>\n",
              "      <td id=\"T_b7fa3_row3_col4\" class=\"data row3 col4\" >91945</td>\n",
              "      <td id=\"T_b7fa3_row3_col5\" class=\"data row3 col5\" >53042</td>\n",
              "    </tr>\n",
              "    <tr>\n",
              "      <th id=\"T_b7fa3_level1_row4\" class=\"row_heading level1 row4\" rowspan=\"7\">Edad</th>\n",
              "      <th id=\"T_b7fa3_level2_row4\" class=\"row_heading level2 row4\" >Media</th>\n",
              "      <td id=\"T_b7fa3_row4_col0\" class=\"data row4 col0\" >33.210042</td>\n",
              "      <td id=\"T_b7fa3_row4_col1\" class=\"data row4 col1\" >26.535013</td>\n",
              "      <td id=\"T_b7fa3_row4_col2\" class=\"data row4 col2\" >29.652844</td>\n",
              "      <td id=\"T_b7fa3_row4_col3\" class=\"data row4 col3\" >35.052451</td>\n",
              "      <td id=\"T_b7fa3_row4_col4\" class=\"data row4 col4\" >25.730665</td>\n",
              "      <td id=\"T_b7fa3_row4_col5\" class=\"data row4 col5\" >32.320859</td>\n",
              "    </tr>\n",
              "    <tr>\n",
              "      <th id=\"T_b7fa3_level2_row5\" class=\"row_heading level2 row5\" >Desviación</th>\n",
              "      <td id=\"T_b7fa3_row5_col0\" class=\"data row5 col0\" >14.131594</td>\n",
              "      <td id=\"T_b7fa3_row5_col1\" class=\"data row5 col1\" >8.181503</td>\n",
              "      <td id=\"T_b7fa3_row5_col2\" class=\"data row5 col2\" >12.799386</td>\n",
              "      <td id=\"T_b7fa3_row5_col3\" class=\"data row5 col3\" >13.439566</td>\n",
              "      <td id=\"T_b7fa3_row5_col4\" class=\"data row5 col4\" >7.453958</td>\n",
              "      <td id=\"T_b7fa3_row5_col5\" class=\"data row5 col5\" >13.025485</td>\n",
              "    </tr>\n",
              "    <tr>\n",
              "      <th id=\"T_b7fa3_level2_row6\" class=\"row_heading level2 row6\" >Mínimo</th>\n",
              "      <td id=\"T_b7fa3_row6_col0\" class=\"data row6 col0\" >2.000000</td>\n",
              "      <td id=\"T_b7fa3_row6_col1\" class=\"data row6 col1\" >19.000000</td>\n",
              "      <td id=\"T_b7fa3_row6_col2\" class=\"data row6 col2\" >2.000000</td>\n",
              "      <td id=\"T_b7fa3_row6_col3\" class=\"data row6 col3\" >2.000000</td>\n",
              "      <td id=\"T_b7fa3_row6_col4\" class=\"data row6 col4\" >5.000000</td>\n",
              "      <td id=\"T_b7fa3_row6_col5\" class=\"data row6 col5\" >2.000000</td>\n",
              "    </tr>\n",
              "    <tr>\n",
              "      <th id=\"T_b7fa3_level2_row7\" class=\"row_heading level2 row7\" >Perc. 25</th>\n",
              "      <td id=\"T_b7fa3_row7_col0\" class=\"data row7 col0\" >23.000000</td>\n",
              "      <td id=\"T_b7fa3_row7_col1\" class=\"data row7 col1\" >22.000000</td>\n",
              "      <td id=\"T_b7fa3_row7_col2\" class=\"data row7 col2\" >22.000000</td>\n",
              "      <td id=\"T_b7fa3_row7_col3\" class=\"data row7 col3\" >24.000000</td>\n",
              "      <td id=\"T_b7fa3_row7_col4\" class=\"data row7 col4\" >22.000000</td>\n",
              "      <td id=\"T_b7fa3_row7_col5\" class=\"data row7 col5\" >22.000000</td>\n",
              "    </tr>\n",
              "    <tr>\n",
              "      <th id=\"T_b7fa3_level2_row8\" class=\"row_heading level2 row8\" >Perc. 50</th>\n",
              "      <td id=\"T_b7fa3_row8_col0\" class=\"data row8 col0\" >29.000000</td>\n",
              "      <td id=\"T_b7fa3_row8_col1\" class=\"data row8 col1\" >24.000000</td>\n",
              "      <td id=\"T_b7fa3_row8_col2\" class=\"data row8 col2\" >24.000000</td>\n",
              "      <td id=\"T_b7fa3_row8_col3\" class=\"data row8 col3\" >33.000000</td>\n",
              "      <td id=\"T_b7fa3_row8_col4\" class=\"data row8 col4\" >24.000000</td>\n",
              "      <td id=\"T_b7fa3_row8_col5\" class=\"data row8 col5\" >27.000000</td>\n",
              "    </tr>\n",
              "    <tr>\n",
              "      <th id=\"T_b7fa3_level2_row9\" class=\"row_heading level2 row9\" >Perc. 75</th>\n",
              "      <td id=\"T_b7fa3_row9_col0\" class=\"data row9 col0\" >40.000000</td>\n",
              "      <td id=\"T_b7fa3_row9_col1\" class=\"data row9 col1\" >27.000000</td>\n",
              "      <td id=\"T_b7fa3_row9_col2\" class=\"data row9 col2\" >34.000000</td>\n",
              "      <td id=\"T_b7fa3_row9_col3\" class=\"data row9 col3\" >43.000000</td>\n",
              "      <td id=\"T_b7fa3_row9_col4\" class=\"data row9 col4\" >26.000000</td>\n",
              "      <td id=\"T_b7fa3_row9_col5\" class=\"data row9 col5\" >40.000000</td>\n",
              "    </tr>\n",
              "    <tr>\n",
              "      <th id=\"T_b7fa3_level2_row10\" class=\"row_heading level2 row10\" >Máximo</th>\n",
              "      <td id=\"T_b7fa3_row10_col0\" class=\"data row10 col0\" >102.000000</td>\n",
              "      <td id=\"T_b7fa3_row10_col1\" class=\"data row10 col1\" >102.000000</td>\n",
              "      <td id=\"T_b7fa3_row10_col2\" class=\"data row10 col2\" >104.000000</td>\n",
              "      <td id=\"T_b7fa3_row10_col3\" class=\"data row10 col3\" >103.000000</td>\n",
              "      <td id=\"T_b7fa3_row10_col4\" class=\"data row10 col4\" >105.000000</td>\n",
              "      <td id=\"T_b7fa3_row10_col5\" class=\"data row10 col5\" >102.000000</td>\n",
              "    </tr>\n",
              "    <tr>\n",
              "      <th id=\"T_b7fa3_level0_row11\" class=\"row_heading level0 row11\" rowspan=\"10\">Vinculación</th>\n",
              "      <th id=\"T_b7fa3_level1_row11\" class=\"row_heading level1 row11\" rowspan=\"3\">Activo/a</th>\n",
              "      <th id=\"T_b7fa3_level2_row11\" class=\"row_heading level2 row11\" >Únicos</th>\n",
              "      <td id=\"T_b7fa3_row11_col0\" class=\"data row11 col0\" >1</td>\n",
              "      <td id=\"T_b7fa3_row11_col1\" class=\"data row11 col1\" >1</td>\n",
              "      <td id=\"T_b7fa3_row11_col2\" class=\"data row11 col2\" >1</td>\n",
              "      <td id=\"T_b7fa3_row11_col3\" class=\"data row11 col3\" >1</td>\n",
              "      <td id=\"T_b7fa3_row11_col4\" class=\"data row11 col4\" >1</td>\n",
              "      <td id=\"T_b7fa3_row11_col5\" class=\"data row11 col5\" >1</td>\n",
              "    </tr>\n",
              "    <tr>\n",
              "      <th id=\"T_b7fa3_level2_row12\" class=\"row_heading level2 row12\" >Moda</th>\n",
              "      <td id=\"T_b7fa3_row12_col0\" class=\"data row12 col0\" >SI</td>\n",
              "      <td id=\"T_b7fa3_row12_col1\" class=\"data row12 col1\" >NO</td>\n",
              "      <td id=\"T_b7fa3_row12_col2\" class=\"data row12 col2\" >NO</td>\n",
              "      <td id=\"T_b7fa3_row12_col3\" class=\"data row12 col3\" >SI</td>\n",
              "      <td id=\"T_b7fa3_row12_col4\" class=\"data row12 col4\" >NO</td>\n",
              "      <td id=\"T_b7fa3_row12_col5\" class=\"data row12 col5\" >NO</td>\n",
              "    </tr>\n",
              "    <tr>\n",
              "      <th id=\"T_b7fa3_level2_row13\" class=\"row_heading level2 row13\" >Frecuencia</th>\n",
              "      <td id=\"T_b7fa3_row13_col0\" class=\"data row13 col0\" >82174</td>\n",
              "      <td id=\"T_b7fa3_row13_col1\" class=\"data row13 col1\" >72873</td>\n",
              "      <td id=\"T_b7fa3_row13_col2\" class=\"data row13 col2\" >53535</td>\n",
              "      <td id=\"T_b7fa3_row13_col3\" class=\"data row13 col3\" >89340</td>\n",
              "      <td id=\"T_b7fa3_row13_col4\" class=\"data row13 col4\" >91945</td>\n",
              "      <td id=\"T_b7fa3_row13_col5\" class=\"data row13 col5\" >53042</td>\n",
              "    </tr>\n",
              "    <tr>\n",
              "      <th id=\"T_b7fa3_level1_row14\" class=\"row_heading level1 row14\" rowspan=\"7\">Antig. en meses</th>\n",
              "      <th id=\"T_b7fa3_level2_row14\" class=\"row_heading level2 row14\" >Media</th>\n",
              "      <td id=\"T_b7fa3_row14_col0\" class=\"data row14 col0\" >22.540207</td>\n",
              "      <td id=\"T_b7fa3_row14_col1\" class=\"data row14 col1\" >26.626817</td>\n",
              "      <td id=\"T_b7fa3_row14_col2\" class=\"data row14 col2\" >21.213449</td>\n",
              "      <td id=\"T_b7fa3_row14_col3\" class=\"data row14 col3\" >22.280927</td>\n",
              "      <td id=\"T_b7fa3_row14_col4\" class=\"data row14 col4\" >27.141944</td>\n",
              "      <td id=\"T_b7fa3_row14_col5\" class=\"data row14 col5\" >21.777686</td>\n",
              "    </tr>\n",
              "    <tr>\n",
              "      <th id=\"T_b7fa3_level2_row15\" class=\"row_heading level2 row15\" >Desviación</th>\n",
              "      <td id=\"T_b7fa3_row15_col0\" class=\"data row15 col0\" >14.259371</td>\n",
              "      <td id=\"T_b7fa3_row15_col1\" class=\"data row15 col1\" >13.723123</td>\n",
              "      <td id=\"T_b7fa3_row15_col2\" class=\"data row15 col2\" >13.876042</td>\n",
              "      <td id=\"T_b7fa3_row15_col3\" class=\"data row15 col3\" >14.390737</td>\n",
              "      <td id=\"T_b7fa3_row15_col4\" class=\"data row15 col4\" >13.605204</td>\n",
              "      <td id=\"T_b7fa3_row15_col5\" class=\"data row15 col5\" >14.389827</td>\n",
              "    </tr>\n",
              "    <tr>\n",
              "      <th id=\"T_b7fa3_level2_row16\" class=\"row_heading level2 row16\" >Mínimo</th>\n",
              "      <td id=\"T_b7fa3_row16_col0\" class=\"data row16 col0\" >0.000000</td>\n",
              "      <td id=\"T_b7fa3_row16_col1\" class=\"data row16 col1\" >0.000000</td>\n",
              "      <td id=\"T_b7fa3_row16_col2\" class=\"data row16 col2\" >0.000000</td>\n",
              "      <td id=\"T_b7fa3_row16_col3\" class=\"data row16 col3\" >0.000000</td>\n",
              "      <td id=\"T_b7fa3_row16_col4\" class=\"data row16 col4\" >0.000000</td>\n",
              "      <td id=\"T_b7fa3_row16_col5\" class=\"data row16 col5\" >0.000000</td>\n",
              "    </tr>\n",
              "    <tr>\n",
              "      <th id=\"T_b7fa3_level2_row17\" class=\"row_heading level2 row17\" >Perc. 25</th>\n",
              "      <td id=\"T_b7fa3_row17_col0\" class=\"data row17 col0\" >9.000000</td>\n",
              "      <td id=\"T_b7fa3_row17_col1\" class=\"data row17 col1\" >17.000000</td>\n",
              "      <td id=\"T_b7fa3_row17_col2\" class=\"data row17 col2\" >8.000000</td>\n",
              "      <td id=\"T_b7fa3_row17_col3\" class=\"data row17 col3\" >9.000000</td>\n",
              "      <td id=\"T_b7fa3_row17_col4\" class=\"data row17 col4\" >18.000000</td>\n",
              "      <td id=\"T_b7fa3_row17_col5\" class=\"data row17 col5\" >8.000000</td>\n",
              "    </tr>\n",
              "    <tr>\n",
              "      <th id=\"T_b7fa3_level2_row18\" class=\"row_heading level2 row18\" >Perc. 50</th>\n",
              "      <td id=\"T_b7fa3_row18_col0\" class=\"data row18 col0\" >21.000000</td>\n",
              "      <td id=\"T_b7fa3_row18_col1\" class=\"data row18 col1\" >30.000000</td>\n",
              "      <td id=\"T_b7fa3_row18_col2\" class=\"data row18 col2\" >19.000000</td>\n",
              "      <td id=\"T_b7fa3_row18_col3\" class=\"data row18 col3\" >20.000000</td>\n",
              "      <td id=\"T_b7fa3_row18_col4\" class=\"data row18 col4\" >31.000000</td>\n",
              "      <td id=\"T_b7fa3_row18_col5\" class=\"data row18 col5\" >19.000000</td>\n",
              "    </tr>\n",
              "    <tr>\n",
              "      <th id=\"T_b7fa3_level2_row19\" class=\"row_heading level2 row19\" >Perc. 75</th>\n",
              "      <td id=\"T_b7fa3_row19_col0\" class=\"data row19 col0\" >33.000000</td>\n",
              "      <td id=\"T_b7fa3_row19_col1\" class=\"data row19 col1\" >42.000000</td>\n",
              "      <td id=\"T_b7fa3_row19_col2\" class=\"data row19 col2\" >31.000000</td>\n",
              "      <td id=\"T_b7fa3_row19_col3\" class=\"data row19 col3\" >33.000000</td>\n",
              "      <td id=\"T_b7fa3_row19_col4\" class=\"data row19 col4\" >42.000000</td>\n",
              "      <td id=\"T_b7fa3_row19_col5\" class=\"data row19 col5\" >32.000000</td>\n",
              "    </tr>\n",
              "    <tr>\n",
              "      <th id=\"T_b7fa3_level2_row20\" class=\"row_heading level2 row20\" >Máximo</th>\n",
              "      <td id=\"T_b7fa3_row20_col0\" class=\"data row20 col0\" >52.000000</td>\n",
              "      <td id=\"T_b7fa3_row20_col1\" class=\"data row20 col1\" >52.000000</td>\n",
              "      <td id=\"T_b7fa3_row20_col2\" class=\"data row20 col2\" >52.000000</td>\n",
              "      <td id=\"T_b7fa3_row20_col3\" class=\"data row20 col3\" >52.000000</td>\n",
              "      <td id=\"T_b7fa3_row20_col4\" class=\"data row20 col4\" >52.000000</td>\n",
              "      <td id=\"T_b7fa3_row20_col5\" class=\"data row20 col5\" >52.000000</td>\n",
              "    </tr>\n",
              "    <tr>\n",
              "      <th id=\"T_b7fa3_level0_row21\" class=\"row_heading level0 row21\" rowspan=\"10\">Comercial</th>\n",
              "      <th id=\"T_b7fa3_level1_row21\" class=\"row_heading level1 row21\" rowspan=\"7\">Total productos</th>\n",
              "      <th id=\"T_b7fa3_level2_row21\" class=\"row_heading level2 row21\" >Media</th>\n",
              "      <td id=\"T_b7fa3_row21_col0\" class=\"data row21 col0\" >1.539149</td>\n",
              "      <td id=\"T_b7fa3_row21_col1\" class=\"data row21 col1\" >1.007589</td>\n",
              "      <td id=\"T_b7fa3_row21_col2\" class=\"data row21 col2\" >0.000654</td>\n",
              "      <td id=\"T_b7fa3_row21_col3\" class=\"data row21 col3\" >1.638124</td>\n",
              "      <td id=\"T_b7fa3_row21_col4\" class=\"data row21 col4\" >1.003535</td>\n",
              "      <td id=\"T_b7fa3_row21_col5\" class=\"data row21 col5\" >0.000754</td>\n",
              "    </tr>\n",
              "    <tr>\n",
              "      <th id=\"T_b7fa3_level2_row22\" class=\"row_heading level2 row22\" >Desviación</th>\n",
              "      <td id=\"T_b7fa3_row22_col0\" class=\"data row22 col0\" >1.027683</td>\n",
              "      <td id=\"T_b7fa3_row22_col1\" class=\"data row22 col1\" >0.089276</td>\n",
              "      <td id=\"T_b7fa3_row22_col2\" class=\"data row22 col2\" >0.025561</td>\n",
              "      <td id=\"T_b7fa3_row22_col3\" class=\"data row22 col3\" >1.088895</td>\n",
              "      <td id=\"T_b7fa3_row22_col4\" class=\"data row22 col4\" >0.061154</td>\n",
              "      <td id=\"T_b7fa3_row22_col5\" class=\"data row22 col5\" >0.027451</td>\n",
              "    </tr>\n",
              "    <tr>\n",
              "      <th id=\"T_b7fa3_level2_row23\" class=\"row_heading level2 row23\" >Mínimo</th>\n",
              "      <td id=\"T_b7fa3_row23_col0\" class=\"data row23 col0\" >0.000000</td>\n",
              "      <td id=\"T_b7fa3_row23_col1\" class=\"data row23 col1\" >1.000000</td>\n",
              "      <td id=\"T_b7fa3_row23_col2\" class=\"data row23 col2\" >0.000000</td>\n",
              "      <td id=\"T_b7fa3_row23_col3\" class=\"data row23 col3\" >0.000000</td>\n",
              "      <td id=\"T_b7fa3_row23_col4\" class=\"data row23 col4\" >1.000000</td>\n",
              "      <td id=\"T_b7fa3_row23_col5\" class=\"data row23 col5\" >0.000000</td>\n",
              "    </tr>\n",
              "    <tr>\n",
              "      <th id=\"T_b7fa3_level2_row24\" class=\"row_heading level2 row24\" >Perc. 25</th>\n",
              "      <td id=\"T_b7fa3_row24_col0\" class=\"data row24 col0\" >1.000000</td>\n",
              "      <td id=\"T_b7fa3_row24_col1\" class=\"data row24 col1\" >1.000000</td>\n",
              "      <td id=\"T_b7fa3_row24_col2\" class=\"data row24 col2\" >0.000000</td>\n",
              "      <td id=\"T_b7fa3_row24_col3\" class=\"data row24 col3\" >1.000000</td>\n",
              "      <td id=\"T_b7fa3_row24_col4\" class=\"data row24 col4\" >1.000000</td>\n",
              "      <td id=\"T_b7fa3_row24_col5\" class=\"data row24 col5\" >0.000000</td>\n",
              "    </tr>\n",
              "    <tr>\n",
              "      <th id=\"T_b7fa3_level2_row25\" class=\"row_heading level2 row25\" >Perc. 50</th>\n",
              "      <td id=\"T_b7fa3_row25_col0\" class=\"data row25 col0\" >1.000000</td>\n",
              "      <td id=\"T_b7fa3_row25_col1\" class=\"data row25 col1\" >1.000000</td>\n",
              "      <td id=\"T_b7fa3_row25_col2\" class=\"data row25 col2\" >0.000000</td>\n",
              "      <td id=\"T_b7fa3_row25_col3\" class=\"data row25 col3\" >1.000000</td>\n",
              "      <td id=\"T_b7fa3_row25_col4\" class=\"data row25 col4\" >1.000000</td>\n",
              "      <td id=\"T_b7fa3_row25_col5\" class=\"data row25 col5\" >0.000000</td>\n",
              "    </tr>\n",
              "    <tr>\n",
              "      <th id=\"T_b7fa3_level2_row26\" class=\"row_heading level2 row26\" >Perc. 75</th>\n",
              "      <td id=\"T_b7fa3_row26_col0\" class=\"data row26 col0\" >2.000000</td>\n",
              "      <td id=\"T_b7fa3_row26_col1\" class=\"data row26 col1\" >1.000000</td>\n",
              "      <td id=\"T_b7fa3_row26_col2\" class=\"data row26 col2\" >0.000000</td>\n",
              "      <td id=\"T_b7fa3_row26_col3\" class=\"data row26 col3\" >2.000000</td>\n",
              "      <td id=\"T_b7fa3_row26_col4\" class=\"data row26 col4\" >1.000000</td>\n",
              "      <td id=\"T_b7fa3_row26_col5\" class=\"data row26 col5\" >0.000000</td>\n",
              "    </tr>\n",
              "    <tr>\n",
              "      <th id=\"T_b7fa3_level2_row27\" class=\"row_heading level2 row27\" >Máximo</th>\n",
              "      <td id=\"T_b7fa3_row27_col0\" class=\"data row27 col0\" >8.000000</td>\n",
              "      <td id=\"T_b7fa3_row27_col1\" class=\"data row27 col1\" >4.000000</td>\n",
              "      <td id=\"T_b7fa3_row27_col2\" class=\"data row27 col2\" >1.000000</td>\n",
              "      <td id=\"T_b7fa3_row27_col3\" class=\"data row27 col3\" >9.000000</td>\n",
              "      <td id=\"T_b7fa3_row27_col4\" class=\"data row27 col4\" >3.000000</td>\n",
              "      <td id=\"T_b7fa3_row27_col5\" class=\"data row27 col5\" >1.000000</td>\n",
              "    </tr>\n",
              "    <tr>\n",
              "      <th id=\"T_b7fa3_level1_row28\" class=\"row_heading level1 row28\" rowspan=\"3\">Status cliente</th>\n",
              "      <th id=\"T_b7fa3_level2_row28\" class=\"row_heading level2 row28\" >Únicos</th>\n",
              "      <td id=\"T_b7fa3_row28_col0\" class=\"data row28 col0\" >6</td>\n",
              "      <td id=\"T_b7fa3_row28_col1\" class=\"data row28 col1\" >4</td>\n",
              "      <td id=\"T_b7fa3_row28_col2\" class=\"data row28 col2\" >3</td>\n",
              "      <td id=\"T_b7fa3_row28_col3\" class=\"data row28 col3\" >6</td>\n",
              "      <td id=\"T_b7fa3_row28_col4\" class=\"data row28 col4\" >4</td>\n",
              "      <td id=\"T_b7fa3_row28_col5\" class=\"data row28 col5\" >3</td>\n",
              "    </tr>\n",
              "    <tr>\n",
              "      <th id=\"T_b7fa3_level2_row29\" class=\"row_heading level2 row29\" >Moda</th>\n",
              "      <td id=\"T_b7fa3_row29_col0\" class=\"data row29 col0\" >CLIENTE FIDELIZADO</td>\n",
              "      <td id=\"T_b7fa3_row29_col1\" class=\"data row29 col1\" >CLIENTE FIDELIZADO</td>\n",
              "      <td id=\"T_b7fa3_row29_col2\" class=\"data row29 col2\" >CLIENTE POTENCIAL</td>\n",
              "      <td id=\"T_b7fa3_row29_col3\" class=\"data row29 col3\" >CLIENTE FIDELIZADO</td>\n",
              "      <td id=\"T_b7fa3_row29_col4\" class=\"data row29 col4\" >CLIENTE FIDELIZADO</td>\n",
              "      <td id=\"T_b7fa3_row29_col5\" class=\"data row29 col5\" >CLIENTE POTENCIAL</td>\n",
              "    </tr>\n",
              "    <tr>\n",
              "      <th id=\"T_b7fa3_level2_row30\" class=\"row_heading level2 row30\" >Frecuencia</th>\n",
              "      <td id=\"T_b7fa3_row30_col0\" class=\"data row30 col0\" >71517</td>\n",
              "      <td id=\"T_b7fa3_row30_col1\" class=\"data row30 col1\" >72341</td>\n",
              "      <td id=\"T_b7fa3_row30_col2\" class=\"data row30 col2\" >52965</td>\n",
              "      <td id=\"T_b7fa3_row30_col3\" class=\"data row30 col3\" >75711</td>\n",
              "      <td id=\"T_b7fa3_row30_col4\" class=\"data row30 col4\" >91577</td>\n",
              "      <td id=\"T_b7fa3_row30_col5\" class=\"data row30 col5\" >52348</td>\n",
              "    </tr>\n",
              "  </tbody>\n",
              "</table>\n"
            ]
          },
          "metadata": {},
          "execution_count": 783
        }
      ]
    },
    {
      "cell_type": "code",
      "source": [
        "CLUST_FINAL_MERGED['STATUS_CLIENTE'].value_counts()"
      ],
      "metadata": {
        "colab": {
          "base_uri": "https://localhost:8080/"
        },
        "id": "aqlc0YDlaMO5",
        "outputId": "151522cd-4b96-43bf-f849-dc56af0bbab5"
      },
      "execution_count": 784,
      "outputs": [
        {
          "output_type": "execute_result",
          "data": {
            "text/plain": [
              "CLIENTE FIDELIZADO    311146\n",
              "CLIENTE POTENCIAL     109557\n",
              "CLIENTE CRECIENTE       9520\n",
              "CLIENTE DESERTOR        7013\n",
              "CLIENTE NUEVO           3848\n",
              "CLIENTE PERDIDO         1825\n",
              "Name: STATUS_CLIENTE, dtype: int64"
            ]
          },
          "metadata": {},
          "execution_count": 784
        }
      ]
    },
    {
      "cell_type": "markdown",
      "source": [
        "Definiciones status cliente:\n",
        "\n",
        "\n",
        "CLIENTE POTENCIAL: En el periodo anterior no tenía productos y ahora tampoco\n",
        "\n",
        "CLIENTE NUEVO:     En el periodo anterior no tenía productos y ahora tiene\n",
        "\n",
        "CLIENTE FIDELIZADO:En el periodo anterior tenía productos y ahora los mantiene\n",
        "\n",
        "CLIENTE CRECIENTE: En el periodo anterior tenía productos y ahora tiene más\n",
        "\n",
        "CLIENTE DESERTOR:  En el periodo anterior tenía productos y ahora tiene menos\n",
        "\n",
        "CLIENTE PERDIDO:   En el periodo anterior tenía productos y ahora no tiene  \n"
      ],
      "metadata": {
        "id": "d9dxFXuDaCM_"
      }
    },
    {
      "cell_type": "markdown",
      "source": [
        "Cluster 0: Mujeres, mayoritariamente hasta 40 años (de media, mayor rango de edad) activas, con menos de tres años de antigüedad, en general con más de un producto y fidelizadas. CLIENTAS TOP\n",
        "\n",
        "Cluster 3: Hombres, mayoritariamente hasta 43 años (de media, mayor rango de edad) activos, con menos de tres años de antigüedad, en general con más de un producto y fidelizadas. CLIENTES TOP\n",
        "\n",
        "Cluster 4: Mujeres, mayoritariamente hasta 26 años (de media, más jóvenes en rango de edad) inactivas, con más de tres años de antigüedad, en general con un sólo producto. CLIENTAS RIESGO\n",
        "\n",
        "Cluster 1: Hombres, mayoritariamente hasta 27 años (de media, más jóvenes en rango de edad) inactivas, con más de tres años de antigüedad, en general con un sólo producto. CLIENTES RIESGO\n",
        "\n",
        "Cluster 2: Mujeres, mayoritariamente hasta 34 años (grupo intermedio en edad) inactivas, con menos de tres años de antigüedad, en general sin productos y en su mayoría potenciales. CLIENTAS POTENCIALES\n",
        "\n",
        "Cluster 5: Hombres, mayoritariamente hasta 40 años (grupo intermedio en edad, pero por poco) inactivos, con menos de tres años de antigüedad, en general sin productos y en su mayoría potenciales. CLIENTES POTENCIALES"
      ],
      "metadata": {
        "id": "CnLrP2Pteyb2"
      }
    },
    {
      "cell_type": "markdown",
      "source": [
        "Aunque tiene más que ver con el peso de esos valores que con una característica que distingue los clústers, a modo de curiosidad advertimos que\n",
        "\n",
        "- Los CLIENTES TOP son mayoritariamente del SEGMENTO PARTICULARES, y el resto mayoritariamente del SEGMENTO UNIVERSITARIO.\n",
        "\n",
        "- La Comunidad Autónoma mayoritaria es Madrid en todos los clústers excepto en el 1 y el 4, los dos de RIESGO, en que es Andalucia."
      ],
      "metadata": {
        "id": "GAnU_G5_0ex9"
      }
    },
    {
      "cell_type": "code",
      "source": [
        "CLUST_FINAL_MERGED[CLUST_FINAL_MERGED['CLUSTER']==5]['COM.AUTONOMA_ESP'].value_counts()"
      ],
      "metadata": {
        "colab": {
          "base_uri": "https://localhost:8080/"
        },
        "id": "yjM7wG0GM4YC",
        "outputId": "2961aad0-20be-4481-e16b-03cbbc1bbb6d"
      },
      "execution_count": 796,
      "outputs": [
        {
          "output_type": "execute_result",
          "data": {
            "text/plain": [
              "MADRID                   16517\n",
              "CATALUÑA                  8982\n",
              "ANDALUCIA                 7107\n",
              "CDAD. VALENCIANA          4695\n",
              "GALICIA                   2637\n",
              "CASTILLA Y LEON           2304\n",
              "CASTILLA LA MANCHA        2299\n",
              "MURCIA                    1691\n",
              "CANARIAS                  1375\n",
              "EXTREMADURA               1082\n",
              "ARAGON                     996\n",
              "PAIS VASCO                 770\n",
              "ASTURIAS                   736\n",
              "BALEARES                   730\n",
              "CANTABRIA                  498\n",
              "NAVARRA                    281\n",
              "LA RIOJA                   221\n",
              "CEUTA Y MELILLA             91\n",
              "NO APLICA/DESCONOCIDA       30\n",
              "Name: COM.AUTONOMA_ESP, dtype: int64"
            ]
          },
          "metadata": {},
          "execution_count": 796
        }
      ]
    },
    {
      "cell_type": "code",
      "source": [],
      "metadata": {
        "id": "I95nQShKNv6K"
      },
      "execution_count": 785,
      "outputs": []
    }
  ]
}